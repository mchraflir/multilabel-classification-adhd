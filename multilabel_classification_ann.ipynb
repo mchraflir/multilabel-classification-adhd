{
 "cells": [
  {
   "cell_type": "code",
   "execution_count": 300,
   "metadata": {
    "collapsed": true
   },
   "outputs": [
    {
     "name": "stderr",
     "output_type": "stream",
     "text": [
      "Using state Jakarta server backend.\n"
     ]
    }
   ],
   "source": [
    "import pandas as pd\n",
    "import numpy as np\n",
    "import tensorflow as tf\n",
    "from sklearn.model_selection import train_test_split\n",
    "from sklearn.preprocessing import MultiLabelBinarizer\n",
    "from tensorflow.keras.preprocessing.text import Tokenizer\n",
    "from tensorflow.keras.preprocessing.sequence import pad_sequences\n",
    "import matplotlib.pyplot as plt\n",
    "\n",
    "import translators as ts\n",
    "from multiprocessing import Pool\n",
    "from tqdm import *"
   ]
  },
  {
   "cell_type": "code",
   "execution_count": 211,
   "outputs": [
    {
     "data": {
      "text/plain": "      Unnamed: 0        id                                               text  \\\n0              0   821-1-0                                                  p   \n1              1   816-1-0                                              salam   \n2              2   815-1-0                                semoga membantu iya   \n3              3   814-1-0                     hindari konsumsi alkohol rokok   \n4              4   813-1-0                                     olahraga rutin   \n...          ...       ...                                                ...   \n1454        1454  15-2-735  salahnya periksakan dokter dokter anak sub spe...   \n1455        1455     9-2-0  usia sewajarnya kosa dikuasai anak nama usia d...   \n1456        1456   9-2-196  anak seusia merangkai kalimat mudah dipahami o...   \n1457        1457   9-2-331      mengalami menarik mahir menceritakannya orang   \n1458        1458     6-2-0  hallo dok anak kembar laki usia lancar bicara ...   \n\n      Pasien  Usia pasien  Penyakit  Gejala  Tindakan  Outcome  Pertanyaan  \\\n0          0            0         0       0         0        0           0   \n1          0            0         0       0         0        0           0   \n2          0            0         0       0         0        0           0   \n3          0            0         0       0         1        0           0   \n4          0            0         0       0         1        0           0   \n...      ...          ...       ...     ...       ...      ...         ...   \n1454       0            0         0       0         1        0           0   \n1455       1            1         0       0         0        0           0   \n1456       1            0         0       0         0        1           0   \n1457       0            0         0       0         0        1           0   \n1458       1            1         0       1         1        0           0   \n\n      Pembuka  Penyebab  Prakondisi  Objek  Penutup  Waktu  \n0           0         0           0      0        0      0  \n1           0         0           0      0        1      0  \n2           0         0           0      0        1      0  \n3           0         0           0      1        0      0  \n4           0         0           0      0        0      0  \n...       ...       ...         ...    ...      ...    ...  \n1454        0         0           0      0        0      0  \n1455        0         0           0      0        0      0  \n1456        0         0           0      0        0      0  \n1457        0         0           0      0        0      0  \n1458        1         0           0      1        1      0  \n\n[1459 rows x 16 columns]",
      "text/html": "<div>\n<style scoped>\n    .dataframe tbody tr th:only-of-type {\n        vertical-align: middle;\n    }\n\n    .dataframe tbody tr th {\n        vertical-align: top;\n    }\n\n    .dataframe thead th {\n        text-align: right;\n    }\n</style>\n<table border=\"1\" class=\"dataframe\">\n  <thead>\n    <tr style=\"text-align: right;\">\n      <th></th>\n      <th>Unnamed: 0</th>\n      <th>id</th>\n      <th>text</th>\n      <th>Pasien</th>\n      <th>Usia pasien</th>\n      <th>Penyakit</th>\n      <th>Gejala</th>\n      <th>Tindakan</th>\n      <th>Outcome</th>\n      <th>Pertanyaan</th>\n      <th>Pembuka</th>\n      <th>Penyebab</th>\n      <th>Prakondisi</th>\n      <th>Objek</th>\n      <th>Penutup</th>\n      <th>Waktu</th>\n    </tr>\n  </thead>\n  <tbody>\n    <tr>\n      <th>0</th>\n      <td>0</td>\n      <td>821-1-0</td>\n      <td>p</td>\n      <td>0</td>\n      <td>0</td>\n      <td>0</td>\n      <td>0</td>\n      <td>0</td>\n      <td>0</td>\n      <td>0</td>\n      <td>0</td>\n      <td>0</td>\n      <td>0</td>\n      <td>0</td>\n      <td>0</td>\n      <td>0</td>\n    </tr>\n    <tr>\n      <th>1</th>\n      <td>1</td>\n      <td>816-1-0</td>\n      <td>salam</td>\n      <td>0</td>\n      <td>0</td>\n      <td>0</td>\n      <td>0</td>\n      <td>0</td>\n      <td>0</td>\n      <td>0</td>\n      <td>0</td>\n      <td>0</td>\n      <td>0</td>\n      <td>0</td>\n      <td>1</td>\n      <td>0</td>\n    </tr>\n    <tr>\n      <th>2</th>\n      <td>2</td>\n      <td>815-1-0</td>\n      <td>semoga membantu iya</td>\n      <td>0</td>\n      <td>0</td>\n      <td>0</td>\n      <td>0</td>\n      <td>0</td>\n      <td>0</td>\n      <td>0</td>\n      <td>0</td>\n      <td>0</td>\n      <td>0</td>\n      <td>0</td>\n      <td>1</td>\n      <td>0</td>\n    </tr>\n    <tr>\n      <th>3</th>\n      <td>3</td>\n      <td>814-1-0</td>\n      <td>hindari konsumsi alkohol rokok</td>\n      <td>0</td>\n      <td>0</td>\n      <td>0</td>\n      <td>0</td>\n      <td>1</td>\n      <td>0</td>\n      <td>0</td>\n      <td>0</td>\n      <td>0</td>\n      <td>0</td>\n      <td>1</td>\n      <td>0</td>\n      <td>0</td>\n    </tr>\n    <tr>\n      <th>4</th>\n      <td>4</td>\n      <td>813-1-0</td>\n      <td>olahraga rutin</td>\n      <td>0</td>\n      <td>0</td>\n      <td>0</td>\n      <td>0</td>\n      <td>1</td>\n      <td>0</td>\n      <td>0</td>\n      <td>0</td>\n      <td>0</td>\n      <td>0</td>\n      <td>0</td>\n      <td>0</td>\n      <td>0</td>\n    </tr>\n    <tr>\n      <th>...</th>\n      <td>...</td>\n      <td>...</td>\n      <td>...</td>\n      <td>...</td>\n      <td>...</td>\n      <td>...</td>\n      <td>...</td>\n      <td>...</td>\n      <td>...</td>\n      <td>...</td>\n      <td>...</td>\n      <td>...</td>\n      <td>...</td>\n      <td>...</td>\n      <td>...</td>\n      <td>...</td>\n    </tr>\n    <tr>\n      <th>1454</th>\n      <td>1454</td>\n      <td>15-2-735</td>\n      <td>salahnya periksakan dokter dokter anak sub spe...</td>\n      <td>0</td>\n      <td>0</td>\n      <td>0</td>\n      <td>0</td>\n      <td>1</td>\n      <td>0</td>\n      <td>0</td>\n      <td>0</td>\n      <td>0</td>\n      <td>0</td>\n      <td>0</td>\n      <td>0</td>\n      <td>0</td>\n    </tr>\n    <tr>\n      <th>1455</th>\n      <td>1455</td>\n      <td>9-2-0</td>\n      <td>usia sewajarnya kosa dikuasai anak nama usia d...</td>\n      <td>1</td>\n      <td>1</td>\n      <td>0</td>\n      <td>0</td>\n      <td>0</td>\n      <td>0</td>\n      <td>0</td>\n      <td>0</td>\n      <td>0</td>\n      <td>0</td>\n      <td>0</td>\n      <td>0</td>\n      <td>0</td>\n    </tr>\n    <tr>\n      <th>1456</th>\n      <td>1456</td>\n      <td>9-2-196</td>\n      <td>anak seusia merangkai kalimat mudah dipahami o...</td>\n      <td>1</td>\n      <td>0</td>\n      <td>0</td>\n      <td>0</td>\n      <td>0</td>\n      <td>1</td>\n      <td>0</td>\n      <td>0</td>\n      <td>0</td>\n      <td>0</td>\n      <td>0</td>\n      <td>0</td>\n      <td>0</td>\n    </tr>\n    <tr>\n      <th>1457</th>\n      <td>1457</td>\n      <td>9-2-331</td>\n      <td>mengalami menarik mahir menceritakannya orang</td>\n      <td>0</td>\n      <td>0</td>\n      <td>0</td>\n      <td>0</td>\n      <td>0</td>\n      <td>1</td>\n      <td>0</td>\n      <td>0</td>\n      <td>0</td>\n      <td>0</td>\n      <td>0</td>\n      <td>0</td>\n      <td>0</td>\n    </tr>\n    <tr>\n      <th>1458</th>\n      <td>1458</td>\n      <td>6-2-0</td>\n      <td>hallo dok anak kembar laki usia lancar bicara ...</td>\n      <td>1</td>\n      <td>1</td>\n      <td>0</td>\n      <td>1</td>\n      <td>1</td>\n      <td>0</td>\n      <td>0</td>\n      <td>1</td>\n      <td>0</td>\n      <td>0</td>\n      <td>1</td>\n      <td>1</td>\n      <td>0</td>\n    </tr>\n  </tbody>\n</table>\n<p>1459 rows × 16 columns</p>\n</div>"
     },
     "execution_count": 211,
     "metadata": {},
     "output_type": "execute_result"
    }
   ],
   "source": [
    "dataset = pd.read_csv(\"cleaned_dataset.csv\")\n",
    "dataset"
   ],
   "metadata": {
    "collapsed": false
   }
  },
  {
   "cell_type": "code",
   "execution_count": 266,
   "outputs": [
    {
     "data": {
      "text/plain": "102"
     },
     "execution_count": 266,
     "metadata": {},
     "output_type": "execute_result"
    }
   ],
   "source": [
    "max_length = max(dataset['text'].astype(str), key=len)\n",
    "max_length = max_length.split()\n",
    "len(max_length)"
   ],
   "metadata": {
    "collapsed": false
   }
  },
  {
   "cell_type": "code",
   "execution_count": 212,
   "outputs": [
    {
     "data": {
      "text/plain": "      Pasien  Usia pasien  Penyakit  Gejala  Tindakan  Outcome  Pertanyaan  \\\n0          0            0         0       0         0        0           0   \n1          0            0         0       0         0        0           0   \n2          0            0         0       0         0        0           0   \n3          0            0         0       0         1        0           0   \n4          0            0         0       0         1        0           0   \n...      ...          ...       ...     ...       ...      ...         ...   \n1454       0            0         0       0         1        0           0   \n1455       1            1         0       0         0        0           0   \n1456       1            0         0       0         0        1           0   \n1457       0            0         0       0         0        1           0   \n1458       1            1         0       1         1        0           0   \n\n      Pembuka  Penyebab  Prakondisi  Objek  Penutup  Waktu  \n0           0         0           0      0        0      0  \n1           0         0           0      0        1      0  \n2           0         0           0      0        1      0  \n3           0         0           0      1        0      0  \n4           0         0           0      0        0      0  \n...       ...       ...         ...    ...      ...    ...  \n1454        0         0           0      0        0      0  \n1455        0         0           0      0        0      0  \n1456        0         0           0      0        0      0  \n1457        0         0           0      0        0      0  \n1458        1         0           0      1        1      0  \n\n[1459 rows x 13 columns]",
      "text/html": "<div>\n<style scoped>\n    .dataframe tbody tr th:only-of-type {\n        vertical-align: middle;\n    }\n\n    .dataframe tbody tr th {\n        vertical-align: top;\n    }\n\n    .dataframe thead th {\n        text-align: right;\n    }\n</style>\n<table border=\"1\" class=\"dataframe\">\n  <thead>\n    <tr style=\"text-align: right;\">\n      <th></th>\n      <th>Pasien</th>\n      <th>Usia pasien</th>\n      <th>Penyakit</th>\n      <th>Gejala</th>\n      <th>Tindakan</th>\n      <th>Outcome</th>\n      <th>Pertanyaan</th>\n      <th>Pembuka</th>\n      <th>Penyebab</th>\n      <th>Prakondisi</th>\n      <th>Objek</th>\n      <th>Penutup</th>\n      <th>Waktu</th>\n    </tr>\n  </thead>\n  <tbody>\n    <tr>\n      <th>0</th>\n      <td>0</td>\n      <td>0</td>\n      <td>0</td>\n      <td>0</td>\n      <td>0</td>\n      <td>0</td>\n      <td>0</td>\n      <td>0</td>\n      <td>0</td>\n      <td>0</td>\n      <td>0</td>\n      <td>0</td>\n      <td>0</td>\n    </tr>\n    <tr>\n      <th>1</th>\n      <td>0</td>\n      <td>0</td>\n      <td>0</td>\n      <td>0</td>\n      <td>0</td>\n      <td>0</td>\n      <td>0</td>\n      <td>0</td>\n      <td>0</td>\n      <td>0</td>\n      <td>0</td>\n      <td>1</td>\n      <td>0</td>\n    </tr>\n    <tr>\n      <th>2</th>\n      <td>0</td>\n      <td>0</td>\n      <td>0</td>\n      <td>0</td>\n      <td>0</td>\n      <td>0</td>\n      <td>0</td>\n      <td>0</td>\n      <td>0</td>\n      <td>0</td>\n      <td>0</td>\n      <td>1</td>\n      <td>0</td>\n    </tr>\n    <tr>\n      <th>3</th>\n      <td>0</td>\n      <td>0</td>\n      <td>0</td>\n      <td>0</td>\n      <td>1</td>\n      <td>0</td>\n      <td>0</td>\n      <td>0</td>\n      <td>0</td>\n      <td>0</td>\n      <td>1</td>\n      <td>0</td>\n      <td>0</td>\n    </tr>\n    <tr>\n      <th>4</th>\n      <td>0</td>\n      <td>0</td>\n      <td>0</td>\n      <td>0</td>\n      <td>1</td>\n      <td>0</td>\n      <td>0</td>\n      <td>0</td>\n      <td>0</td>\n      <td>0</td>\n      <td>0</td>\n      <td>0</td>\n      <td>0</td>\n    </tr>\n    <tr>\n      <th>...</th>\n      <td>...</td>\n      <td>...</td>\n      <td>...</td>\n      <td>...</td>\n      <td>...</td>\n      <td>...</td>\n      <td>...</td>\n      <td>...</td>\n      <td>...</td>\n      <td>...</td>\n      <td>...</td>\n      <td>...</td>\n      <td>...</td>\n    </tr>\n    <tr>\n      <th>1454</th>\n      <td>0</td>\n      <td>0</td>\n      <td>0</td>\n      <td>0</td>\n      <td>1</td>\n      <td>0</td>\n      <td>0</td>\n      <td>0</td>\n      <td>0</td>\n      <td>0</td>\n      <td>0</td>\n      <td>0</td>\n      <td>0</td>\n    </tr>\n    <tr>\n      <th>1455</th>\n      <td>1</td>\n      <td>1</td>\n      <td>0</td>\n      <td>0</td>\n      <td>0</td>\n      <td>0</td>\n      <td>0</td>\n      <td>0</td>\n      <td>0</td>\n      <td>0</td>\n      <td>0</td>\n      <td>0</td>\n      <td>0</td>\n    </tr>\n    <tr>\n      <th>1456</th>\n      <td>1</td>\n      <td>0</td>\n      <td>0</td>\n      <td>0</td>\n      <td>0</td>\n      <td>1</td>\n      <td>0</td>\n      <td>0</td>\n      <td>0</td>\n      <td>0</td>\n      <td>0</td>\n      <td>0</td>\n      <td>0</td>\n    </tr>\n    <tr>\n      <th>1457</th>\n      <td>0</td>\n      <td>0</td>\n      <td>0</td>\n      <td>0</td>\n      <td>0</td>\n      <td>1</td>\n      <td>0</td>\n      <td>0</td>\n      <td>0</td>\n      <td>0</td>\n      <td>0</td>\n      <td>0</td>\n      <td>0</td>\n    </tr>\n    <tr>\n      <th>1458</th>\n      <td>1</td>\n      <td>1</td>\n      <td>0</td>\n      <td>1</td>\n      <td>1</td>\n      <td>0</td>\n      <td>0</td>\n      <td>1</td>\n      <td>0</td>\n      <td>0</td>\n      <td>1</td>\n      <td>1</td>\n      <td>0</td>\n    </tr>\n  </tbody>\n</table>\n<p>1459 rows × 13 columns</p>\n</div>"
     },
     "execution_count": 212,
     "metadata": {},
     "output_type": "execute_result"
    }
   ],
   "source": [
    "dataset_label = dataset.drop(columns=[\"Unnamed: 0\", \"id\", \"text\"])\n",
    "dataset_label"
   ],
   "metadata": {
    "collapsed": false
   }
  },
  {
   "cell_type": "code",
   "execution_count": 213,
   "outputs": [],
   "source": [
    "label_list = []\n",
    "for index, row in dataset_label.iterrows():\n",
    "    label = []\n",
    "    for (columnName, columnData) in dataset_label.iteritems():\n",
    "        if row[columnName] == 1:\n",
    "            label.append(columnName)\n",
    "    label_list.append(label)"
   ],
   "metadata": {
    "collapsed": false
   }
  },
  {
   "cell_type": "code",
   "execution_count": 214,
   "outputs": [
    {
     "data": {
      "text/plain": "[[],\n ['Penutup'],\n ['Penutup'],\n ['Tindakan', 'Objek'],\n ['Tindakan'],\n ['Tindakan'],\n ['Tindakan'],\n ['Tindakan'],\n ['Tindakan', 'Outcome'],\n ['Tindakan'],\n ['Tindakan'],\n ['Tindakan'],\n [],\n ['Tindakan'],\n ['Tindakan'],\n ['Tindakan'],\n ['Penyebab', 'Objek'],\n ['Penyebab', 'Objek'],\n ['Penyebab'],\n ['Penyebab'],\n ['Penyebab'],\n ['Penyakit', 'Gejala'],\n ['Tindakan'],\n ['Tindakan'],\n [],\n ['Penyakit', 'Gejala'],\n ['Penyakit'],\n ['Gejala'],\n ['Penyakit', 'Outcome'],\n ['Gejala', 'Outcome'],\n ['Gejala'],\n [],\n ['Tindakan', 'Outcome', 'Prakondisi'],\n ['Penyakit'],\n ['Penyakit'],\n ['Pembuka'],\n ['Pembuka'],\n ['Pembuka'],\n ['Usia pasien'],\n ['Gejala'],\n ['Outcome'],\n ['Tindakan', 'Outcome'],\n ['Outcome', 'Prakondisi'],\n ['Gejala'],\n ['Gejala'],\n ['Gejala'],\n ['Gejala'],\n ['Pertanyaan'],\n [],\n ['Penutup'],\n ['Penutup'],\n ['Penyakit'],\n ['Penyakit'],\n ['Tindakan', 'Outcome'],\n ['Penyakit', 'Outcome'],\n [],\n ['Gejala'],\n ['Pembuka'],\n ['Pembuka'],\n ['Pasien',\n  'Usia pasien',\n  'Penyakit',\n  'Gejala',\n  'Outcome',\n  'Pertanyaan',\n  'Waktu'],\n ['Tindakan', 'Prakondisi', 'Penutup'],\n ['Tindakan'],\n ['Tindakan'],\n ['Tindakan'],\n ['Tindakan'],\n ['Penyakit', 'Tindakan', 'Outcome'],\n ['Penyakit'],\n ['Penyakit', 'Outcome'],\n [],\n ['Penyakit', 'Gejala'],\n [],\n ['Penyakit', 'Gejala'],\n ['Pembuka'],\n [],\n ['Penyakit', 'Pertanyaan'],\n ['Penyakit', 'Pertanyaan'],\n ['Penutup'],\n ['Penutup'],\n ['Tindakan', 'Outcome'],\n ['Penyakit', 'Gejala'],\n ['Outcome', 'Prakondisi'],\n ['Penyakit'],\n ['Penyakit', 'Outcome', 'Waktu'],\n ['Penyakit', 'Tindakan'],\n ['Outcome', 'Prakondisi', 'Waktu'],\n ['Penyakit'],\n ['Penyakit', 'Gejala'],\n ['Gejala'],\n ['Penyakit', 'Gejala'],\n ['Penyakit'],\n ['Pembuka'],\n ['Penyakit', 'Pertanyaan', 'Pembuka'],\n ['Usia pasien'],\n ['Gejala'],\n ['Gejala'],\n ['Penutup'],\n [],\n [],\n ['Penutup'],\n ['Tindakan'],\n ['Tindakan', 'Outcome'],\n ['Penyakit'],\n ['Penyebab'],\n ['Penyakit', 'Outcome'],\n ['Tindakan', 'Outcome'],\n ['Penyakit'],\n ['Penyakit', 'Gejala'],\n ['Penyakit', 'Outcome'],\n ['Tindakan', 'Outcome'],\n ['Pembuka'],\n ['Pertanyaan'],\n ['Penyakit', 'Tindakan', 'Outcome', 'Pertanyaan', 'Pembuka'],\n ['Penutup'],\n ['Tindakan'],\n ['Tindakan'],\n ['Tindakan', 'Objek'],\n ['Tindakan'],\n ['Tindakan'],\n ['Tindakan'],\n ['Tindakan', 'Outcome'],\n ['Tindakan'],\n ['Tindakan'],\n ['Tindakan', 'Outcome', 'Prakondisi'],\n ['Gejala'],\n ['Penyakit', 'Tindakan', 'Outcome'],\n ['Pembuka'],\n ['Penutup'],\n [],\n ['Pertanyaan'],\n [],\n ['Tindakan', 'Outcome'],\n ['Pertanyaan'],\n ['Pertanyaan'],\n ['Waktu'],\n [],\n [],\n ['Gejala'],\n ['Outcome'],\n ['Gejala'],\n ['Gejala'],\n ['Gejala'],\n ['Gejala'],\n [],\n ['Pasien', 'Usia pasien', 'Gejala'],\n ['Penutup'],\n ['Penutup'],\n ['Tindakan'],\n ['Tindakan'],\n ['Tindakan'],\n ['Tindakan', 'Outcome'],\n ['Tindakan'],\n ['Tindakan'],\n ['Tindakan', 'Objek'],\n ['Tindakan'],\n ['Tindakan'],\n ['Penyakit', 'Penyebab'],\n ['Tindakan'],\n ['Tindakan'],\n ['Outcome'],\n ['Penyakit', 'Gejala', 'Outcome', 'Prakondisi', 'Waktu'],\n ['Penyakit'],\n ['Penyakit'],\n [],\n ['Outcome'],\n ['Outcome', 'Prakondisi'],\n ['Tindakan', 'Outcome'],\n ['Pembuka'],\n ['Pembuka'],\n ['Penutup'],\n ['Outcome'],\n ['Penyakit', 'Pertanyaan'],\n ['Outcome', 'Pertanyaan'],\n ['Penutup'],\n ['Penyebab', 'Waktu'],\n ['Gejala', 'Outcome'],\n ['Outcome'],\n ['Pembuka'],\n ['Penutup'],\n ['Penutup'],\n ['Tindakan'],\n ['Tindakan', 'Waktu'],\n ['Tindakan'],\n ['Tindakan'],\n ['Tindakan'],\n ['Waktu'],\n ['Pasien', 'Penyakit'],\n ['Penyakit', 'Gejala'],\n ['Penyakit', 'Tindakan'],\n ['Penyakit', 'Tindakan'],\n ['Outcome'],\n ['Outcome', 'Penyebab'],\n ['Penyakit', 'Outcome', 'Penyebab'],\n ['Penyakit'],\n ['Gejala'],\n ['Pembuka'],\n ['Pembuka'],\n ['Pasien', 'Usia pasien'],\n ['Gejala'],\n ['Gejala'],\n ['Gejala'],\n ['Penyakit', 'Gejala', 'Pertanyaan'],\n ['Penutup'],\n ['Penutup'],\n ['Pasien', 'Penyakit', 'Tindakan', 'Outcome'],\n ['Outcome', 'Prakondisi', 'Waktu'],\n ['Penyakit', 'Tindakan', 'Outcome'],\n ['Penyakit'],\n ['Pasien', 'Penyakit', 'Tindakan'],\n ['Tindakan', 'Outcome', 'Objek'],\n ['Penyakit', 'Gejala'],\n ['Pembuka'],\n ['Penutup'],\n ['Pasien', 'Penyakit', 'Tindakan', 'Pertanyaan', 'Prakondisi'],\n ['Pasien', 'Penyakit', 'Outcome', 'Pertanyaan', 'Pembuka'],\n ['Penutup'],\n ['Pasien', 'Tindakan', 'Penyebab'],\n ['Pasien', 'Tindakan'],\n ['Penyakit', 'Outcome', 'Objek'],\n ['Penyakit', 'Objek'],\n ['Tindakan'],\n ['Tindakan', 'Objek'],\n ['Penyakit', 'Gejala'],\n ['Penyakit', 'Tindakan'],\n ['Penyakit', 'Gejala', 'Tindakan', 'Outcome'],\n ['Pembuka'],\n ['Pasien',\n  'Usia pasien',\n  'Penyakit',\n  'Tindakan',\n  'Outcome',\n  'Pertanyaan',\n  'Prakondisi',\n  'Waktu'],\n ['Penutup'],\n ['Tindakan'],\n ['Tindakan', 'Prakondisi'],\n ['Penyakit', 'Gejala'],\n ['Pasien', 'Usia pasien', 'Penyakit'],\n ['Tindakan', 'Outcome', 'Penyebab'],\n ['Penyakit'],\n ['Pembuka'],\n ['Usia pasien', 'Penyakit', 'Pembuka'],\n ['Tindakan', 'Objek', 'Waktu'],\n ['Tindakan', 'Waktu'],\n ['Outcome'],\n ['Outcome', 'Penyebab'],\n ['Gejala'],\n ['Gejala'],\n ['Gejala'],\n ['Pertanyaan'],\n [],\n ['Outcome'],\n ['Penyebab'],\n ['Penutup'],\n ['Tindakan'],\n ['Tindakan', 'Outcome'],\n ['Tindakan'],\n ['Pasien', 'Tindakan'],\n ['Outcome'],\n ['Tindakan', 'Outcome'],\n ['Penyebab'],\n ['Penyebab'],\n ['Penyakit', 'Penyebab'],\n ['Penyakit', 'Penyebab'],\n ['Penyakit', 'Penyebab'],\n ['Penyakit', 'Penyebab'],\n ['Pasien'],\n ['Penyakit'],\n ['Pembuka'],\n ['Usia pasien', 'Gejala', 'Pertanyaan', 'Pembuka'],\n ['Pertanyaan'],\n ['Penutup'],\n ['Tindakan', 'Outcome', 'Pertanyaan', 'Prakondisi'],\n ['Tindakan'],\n ['Outcome', 'Prakondisi'],\n ['Penutup'],\n [],\n ['Gejala'],\n ['Pertanyaan'],\n ['Outcome', 'Penyebab'],\n ['Outcome', 'Penyebab'],\n ['Penyebab'],\n ['Outcome', 'Prakondisi'],\n ['Penyakit', 'Outcome', 'Prakondisi'],\n ['Penyakit', 'Waktu'],\n ['Penyakit', 'Outcome', 'Prakondisi'],\n ['Tindakan'],\n ['Pembuka'],\n [],\n ['Penyakit', 'Tindakan'],\n ['Penyakit', 'Tindakan'],\n ['Penyakit'],\n ['Outcome', 'Prakondisi'],\n ['Penutup'],\n ['Waktu'],\n ['Tindakan', 'Prakondisi'],\n ['Outcome'],\n ['Waktu'],\n ['Gejala', 'Penyebab'],\n ['Gejala', 'Outcome', 'Penyebab', 'Prakondisi'],\n [],\n ['Pembuka'],\n [],\n ['Pasien', 'Usia pasien', 'Tindakan'],\n [],\n ['Penutup'],\n ['Tindakan', 'Objek'],\n ['Tindakan', 'Outcome'],\n ['Tindakan', 'Outcome'],\n ['Tindakan'],\n ['Tindakan', 'Outcome'],\n ['Outcome'],\n ['Outcome'],\n ['Tindakan'],\n ['Penyakit', 'Gejala'],\n ['Outcome', 'Penyebab'],\n ['Penyakit', 'Penyebab'],\n ['Pembuka'],\n ['Pertanyaan'],\n ['Penutup'],\n ['Penyakit', 'Gejala', 'Waktu'],\n ['Usia pasien', 'Gejala', 'Pembuka'],\n ['Gejala', 'Outcome'],\n ['Waktu'],\n ['Penutup'],\n ['Penutup'],\n ['Tindakan'],\n ['Tindakan'],\n ['Tindakan'],\n ['Tindakan'],\n ['Tindakan', 'Outcome'],\n ['Tindakan'],\n ['Tindakan'],\n ['Tindakan'],\n ['Penyebab'],\n ['Tindakan'],\n ['Tindakan', 'Outcome'],\n [],\n ['Penyebab'],\n ['Penyebab', 'Objek'],\n ['Penyebab', 'Objek'],\n ['Penyebab', 'Objek'],\n ['Penyebab'],\n ['Penyebab'],\n ['Tindakan', 'Outcome', 'Waktu'],\n ['Gejala'],\n ['Penyakit', 'Waktu'],\n ['Penyakit', 'Waktu'],\n ['Penyakit', 'Gejala'],\n ['Usia pasien', 'Penyakit', 'Waktu'],\n ['Gejala', 'Outcome', 'Prakondisi'],\n ['Outcome', 'Prakondisi'],\n ['Pembuka'],\n ['Pembuka'],\n ['Penyakit', 'Pertanyaan'],\n ['Tindakan', 'Pertanyaan'],\n ['Pembuka'],\n ['Pasien'],\n ['Outcome', 'Penyebab'],\n ['Gejala', 'Penyebab', 'Waktu'],\n ['Penyakit', 'Gejala', 'Outcome'],\n [],\n [],\n ['Gejala', 'Penyebab'],\n ['Penutup'],\n ['Tindakan', 'Outcome', 'Prakondisi'],\n ['Tindakan'],\n ['Tindakan'],\n ['Tindakan'],\n ['Tindakan', 'Objek'],\n ['Tindakan'],\n ['Tindakan', 'Objek'],\n ['Tindakan', 'Outcome'],\n ['Penyakit', 'Waktu'],\n ['Penyakit', 'Waktu'],\n ['Penyakit', 'Outcome'],\n ['Penyakit', 'Outcome'],\n ['Pembuka'],\n ['Pembuka'],\n ['Penutup'],\n ['Pertanyaan'],\n ['Outcome', 'Pertanyaan', 'Prakondisi'],\n [],\n [],\n [],\n ['Outcome', 'Prakondisi'],\n [],\n ['Gejala', 'Outcome', 'Prakondisi'],\n ['Gejala'],\n ['Gejala', 'Outcome', 'Prakondisi'],\n ['Outcome'],\n ['Pasien', 'Usia pasien'],\n [],\n ['Gejala'],\n ['Gejala'],\n ['Prakondisi'],\n ['Outcome'],\n ['Pembuka'],\n ['Penutup'],\n ['Penyakit', 'Tindakan', 'Outcome'],\n ['Gejala'],\n ['Gejala'],\n ['Penyakit', 'Gejala', 'Outcome'],\n ['Usia pasien', 'Penyebab'],\n ['Gejala'],\n ['Penyakit', 'Tindakan', 'Outcome', 'Prakondisi'],\n [],\n ['Pembuka'],\n ['Pasien', 'Pertanyaan'],\n ['Gejala', 'Outcome', 'Waktu'],\n ['Gejala'],\n ['Prakondisi'],\n ['Tindakan'],\n ['Penutup'],\n ['Pembuka'],\n ['Pembuka'],\n ['Penutup'],\n ['Tindakan'],\n ['Tindakan'],\n ['Tindakan', 'Prakondisi'],\n ['Tindakan'],\n ['Tindakan'],\n ['Tindakan'],\n [],\n ['Tindakan'],\n ['Outcome', 'Prakondisi'],\n ['Gejala', 'Outcome'],\n ['Penyakit'],\n ['Penyebab'],\n ['Pembuka'],\n ['Usia pasien', 'Pembuka'],\n [],\n ['Gejala', 'Tindakan', 'Pertanyaan', 'Objek'],\n ['Penutup'],\n ['Penutup'],\n ['Penyakit', 'Penyebab'],\n ['Tindakan', 'Outcome', 'Prakondisi'],\n ['Outcome'],\n ['Penyakit', 'Gejala', 'Penyebab'],\n ['Pembuka'],\n ['Gejala'],\n ['Penyakit'],\n ['Pertanyaan'],\n ['Penutup'],\n ['Tindakan', 'Prakondisi', 'Objek'],\n ['Tindakan'],\n ['Tindakan', 'Prakondisi', 'Objek'],\n ['Tindakan', 'Outcome', 'Objek'],\n ['Penyakit', 'Gejala'],\n ['Penyakit', 'Penyebab'],\n ['Penyebab', 'Objek'],\n ['Pembuka'],\n ['Pembuka'],\n ['Penyakit', 'Tindakan', 'Outcome', 'Pertanyaan', 'Pembuka', 'Objek'],\n ['Penutup'],\n ['Pembuka'],\n ['Gejala'],\n ['Penyebab'],\n [],\n [],\n [],\n [],\n ['Penutup'],\n ['Penyakit', 'Tindakan', 'Pertanyaan', 'Penyebab'],\n ['Pasien', 'Penyakit', 'Tindakan', 'Outcome'],\n ['Gejala'],\n ['Gejala'],\n ['Gejala'],\n ['Gejala'],\n ['Gejala'],\n ['Gejala'],\n ['Gejala'],\n ['Gejala'],\n ['Pasien'],\n ['Penyakit', 'Gejala', 'Penyebab'],\n ['Pembuka'],\n ['Penutup'],\n ['Pasien', 'Penyakit', 'Gejala', 'Pertanyaan', 'Pembuka'],\n ['Pasien', 'Usia pasien', 'Penyakit'],\n ['Pasien', 'Gejala'],\n ['Gejala'],\n [],\n ['Gejala'],\n ['Pasien', 'Usia pasien', 'Penyakit'],\n ['Penutup'],\n ['Penutup'],\n ['Pasien'],\n ['Tindakan', 'Prakondisi'],\n ['Outcome'],\n ['Gejala'],\n ['Gejala'],\n ['Gejala'],\n ['Gejala'],\n ['Gejala'],\n ['Gejala'],\n ['Gejala'],\n ['Gejala'],\n ['Gejala'],\n ['Gejala'],\n ['Gejala'],\n ['Penyakit', 'Gejala'],\n [],\n [],\n ['Penyakit', 'Outcome'],\n ['Tindakan'],\n ['Pembuka'],\n ['Pasien', 'Usia pasien', 'Gejala', 'Pembuka'],\n ['Gejala'],\n [],\n ['Pasien', 'Penyakit', 'Pertanyaan'],\n ['Penyakit', 'Pertanyaan'],\n ['Penutup'],\n ['Pasien', 'Penyakit'],\n ['Penutup'],\n ['Pasien', 'Gejala'],\n ['Pasien', 'Penyebab'],\n [],\n ['Pasien', 'Tindakan'],\n ['Pasien', 'Tindakan', 'Prakondisi'],\n ['Pasien', 'Tindakan'],\n ['Pasien', 'Penyakit', 'Outcome'],\n ['Pasien', 'Tindakan'],\n ['Tindakan'],\n ['Pasien', 'Tindakan'],\n ['Tindakan'],\n ['Pasien', 'Tindakan'],\n ['Pasien', 'Outcome'],\n ['Pasien', 'Tindakan', 'Waktu'],\n ['Pasien', 'Tindakan', 'Waktu'],\n ['Pasien', 'Tindakan', 'Outcome'],\n ['Pasien', 'Tindakan', 'Outcome'],\n ['Penyebab'],\n ['Penyakit'],\n ['Penyakit'],\n ['Penyebab'],\n ['Penyebab'],\n ['Penyebab'],\n ['Penyebab'],\n ['Pasien', 'Tindakan'],\n ['Outcome'],\n ['Pasien'],\n ['Pembuka'],\n ['Pasien', 'Usia pasien', 'Gejala', 'Pertanyaan', 'Pembuka', 'Penyebab'],\n ['Pasien', 'Gejala', 'Pertanyaan'],\n ['Penutup'],\n ['Penutup'],\n ['Pasien'],\n ['Pasien', 'Tindakan', 'Outcome'],\n ['Pasien', 'Tindakan', 'Outcome'],\n ['Pasien', 'Tindakan'],\n ['Pasien'],\n ['Pasien', 'Outcome', 'Prakondisi'],\n ['Pasien', 'Tindakan'],\n ['Gejala'],\n ['Pasien', 'Gejala', 'Penyebab'],\n ['Gejala'],\n ['Gejala', 'Penyebab'],\n ['Pasien', 'Gejala', 'Penyebab'],\n ['Penyakit'],\n ['Pasien', 'Penyakit', 'Penyebab'],\n ['Pasien', 'Penyakit', 'Penyebab'],\n [],\n ['Pasien', 'Penyebab'],\n ['Penyebab'],\n ['Penyebab'],\n ['Penyebab'],\n ['Penyebab'],\n ['Penyakit'],\n ['Tindakan'],\n ['Gejala'],\n ['Gejala'],\n ['Gejala'],\n ['Gejala'],\n ['Gejala'],\n ['Gejala'],\n ['Pasien', 'Gejala'],\n ['Pasien', 'Gejala'],\n ['Pasien', 'Usia pasien', 'Penyakit'],\n ['Pasien', 'Penyakit', 'Gejala'],\n ['Usia pasien', 'Penyakit'],\n ['Pasien', 'Usia pasien', 'Penyakit', 'Tindakan', 'Outcome', 'Waktu'],\n ['Pasien', 'Usia pasien', 'Waktu'],\n ['Pembuka'],\n ['Pembuka'],\n ['Pasien', 'Usia pasien', 'Penyakit', 'Pertanyaan'],\n ['Pembuka'],\n ['Pasien', 'Usia pasien', 'Penyakit', 'Pertanyaan'],\n ['Penutup'],\n ['Pasien'],\n [],\n ['Tindakan', 'Outcome'],\n ['Pasien', 'Tindakan'],\n ['Pasien'],\n ['Tindakan', 'Outcome'],\n ['Pasien', 'Outcome', 'Prakondisi'],\n ['Pasien', 'Penyakit', 'Tindakan', 'Outcome'],\n ['Penyakit', 'Gejala', 'Waktu'],\n ['Pasien', 'Gejala'],\n ['Pasien', 'Penyakit'],\n ['Pasien', 'Gejala'],\n ['Penyakit'],\n ['Pasien', 'Usia pasien'],\n ['Pembuka'],\n ['Pembuka'],\n ['Pasien', 'Usia pasien', 'Penyakit', 'Gejala', 'Pembuka', 'Waktu'],\n ['Penyakit', 'Gejala', 'Pertanyaan'],\n ['Penutup'],\n ['Pasien', 'Usia pasien', 'Penyakit', 'Pertanyaan'],\n ['Penutup'],\n ['Penutup'],\n ['Penutup'],\n ['Tindakan'],\n ['Pasien'],\n ['Pasien', 'Tindakan', 'Outcome'],\n ['Pasien', 'Tindakan', 'Outcome'],\n ['Pasien', 'Outcome'],\n ['Tindakan'],\n [],\n ['Tindakan', 'Outcome'],\n ['Pasien'],\n ['Pasien', 'Penyakit', 'Gejala'],\n ['Pasien', 'Penyakit', 'Gejala', 'Tindakan'],\n ['Penyakit', 'Outcome'],\n ['Tindakan', 'Outcome'],\n ['Gejala'],\n ['Gejala'],\n ['Gejala'],\n ['Gejala'],\n ['Gejala'],\n ['Gejala'],\n ['Gejala'],\n ['Gejala', 'Waktu'],\n ['Penyakit'],\n ['Gejala'],\n ['Usia pasien', 'Penyakit', 'Gejala'],\n ['Pasien', 'Usia pasien', 'Penyakit', 'Gejala'],\n ['Penyakit'],\n ['Pasien', 'Penyakit'],\n ['Pasien', 'Usia pasien'],\n ['Pasien', 'Usia pasien'],\n ['Pasien'],\n ['Usia pasien'],\n ['Pasien'],\n ['Pasien', 'Usia pasien'],\n ['Pasien', 'Usia pasien'],\n ['Usia pasien'],\n ['Pasien', 'Usia pasien'],\n ['Pasien', 'Usia pasien', 'Penyakit'],\n [],\n ['Pembuka'],\n ['Pembuka'],\n ['Pembuka'],\n ['Pasien', 'Penyakit', 'Pertanyaan'],\n [],\n ['Penutup'],\n ['Pasien', 'Penyakit', 'Gejala'],\n ['Penyakit'],\n ['Penutup'],\n ['Penutup'],\n ['Penutup'],\n ['Pasien', 'Penyakit'],\n ['Pasien', 'Penyakit', 'Tindakan'],\n ['Outcome'],\n ['Tindakan'],\n ['Penyakit', 'Outcome', 'Objek'],\n ['Usia pasien', 'Penyakit'],\n ['Pasien', 'Usia pasien'],\n ['Pasien', 'Gejala'],\n ['Gejala'],\n ['Waktu'],\n ['Gejala'],\n ['Penyakit', 'Gejala'],\n ['Penyakit', 'Gejala'],\n ['Penyakit', 'Gejala'],\n ['Penyakit'],\n ['Penyakit', 'Gejala'],\n ['Penyakit'],\n ['Penyakit', 'Penyebab'],\n ['Pembuka'],\n ['Pembuka'],\n ['Pembuka'],\n ['Pasien',\n  'Usia pasien',\n  'Gejala',\n  'Pertanyaan',\n  'Pembuka',\n  'Penutup',\n  'Waktu'],\n ['Pasien', 'Usia pasien', 'Penyakit'],\n ['Penutup'],\n ['Penyakit'],\n ['Pasien'],\n ['Pasien', 'Tindakan', 'Prakondisi', 'Waktu'],\n ['Penyebab', 'Waktu'],\n ['Penyebab', 'Waktu'],\n ['Penyebab', 'Waktu'],\n ['Penyebab'],\n ['Penyebab'],\n ['Penyebab'],\n ['Pasien', 'Penyakit'],\n ['Pasien', 'Penyakit', 'Waktu'],\n ['Gejala'],\n ['Pasien', 'Penyakit', 'Gejala', 'Waktu'],\n ['Pembuka'],\n ['Penyakit'],\n ['Penyakit', 'Pertanyaan'],\n ['Penyakit'],\n ['Penutup'],\n ['Pasien', 'Tindakan', 'Prakondisi'],\n ['Tindakan', 'Prakondisi'],\n ['Gejala', 'Tindakan', 'Outcome'],\n ['Pasien', 'Objek'],\n ['Pasien'],\n ['Gejala'],\n ['Pasien', 'Tindakan', 'Outcome'],\n ['Pasien'],\n ['Pasien', 'Tindakan', 'Outcome'],\n ['Pasien'],\n [],\n ['Tindakan', 'Outcome'],\n ['Pasien'],\n ['Pasien'],\n ['Pasien', 'Penyakit', 'Penyebab'],\n ['Penyakit', 'Gejala'],\n ['Gejala', 'Penyebab'],\n ['Pasien'],\n ['Penyakit'],\n ['Pasien', 'Penyakit', 'Penyebab'],\n ['Pembuka'],\n ['Pembuka'],\n ['Gejala', 'Waktu'],\n ['Gejala'],\n ['Pasien', 'Usia pasien'],\n ['Pembuka'],\n ['Pasien', 'Gejala', 'Objek'],\n ['Penutup'],\n ['Pasien', 'Gejala', 'Tindakan'],\n ['Pasien', 'Gejala'],\n ['Pasien'],\n ['Pasien'],\n ['Pasien'],\n ['Pasien'],\n ['Pasien', 'Tindakan', 'Outcome'],\n [],\n ['Pasien'],\n ['Pasien', 'Gejala', 'Penyebab'],\n ['Pasien', 'Penyakit'],\n [],\n [],\n ['Pasien', 'Penyakit', 'Gejala'],\n ['Pembuka'],\n ['Pembuka'],\n ['Penutup'],\n ['Pasien', 'Gejala'],\n ['Gejala'],\n [],\n ['Pasien', 'Usia pasien'],\n [],\n ['Pembuka'],\n ['Pasien', 'Usia pasien', 'Gejala'],\n ['Penutup'],\n ['Pasien', 'Tindakan', 'Outcome'],\n ['Tindakan'],\n [],\n ['Tindakan'],\n ['Tindakan'],\n ['Pasien', 'Gejala'],\n ['Pasien', 'Penyakit'],\n ['Pasien', 'Gejala'],\n ['Pasien', 'Gejala'],\n ['Penyakit'],\n [],\n [],\n [],\n [],\n ['Pembuka'],\n ['Pembuka'],\n ['Pasien', 'Usia pasien', 'Penyakit', 'Gejala', 'Pertanyaan', 'Waktu'],\n ['Pasien', 'Gejala', 'Waktu'],\n ['Penutup'],\n [],\n ['Tindakan', 'Outcome'],\n [],\n [],\n ['Penyakit'],\n ['Penyakit'],\n [],\n [],\n [],\n [],\n [],\n [],\n [],\n ['Penyakit', 'Gejala'],\n ['Penyakit'],\n ['Gejala'],\n ['Pembuka'],\n ['Pembuka'],\n ['Usia pasien'],\n ['Penyakit'],\n ['Penyebab'],\n ['Gejala'],\n [],\n ['Gejala'],\n ['Pertanyaan'],\n ['Penyakit'],\n ['Penutup'],\n ['Tindakan', 'Objek'],\n ['Tindakan', 'Objek'],\n ['Objek'],\n ['Objek'],\n ['Objek'],\n ['Objek'],\n ['Objek'],\n ['Objek'],\n ['Objek'],\n ['Objek'],\n ['Objek'],\n ['Pasien', 'Penyakit'],\n ['Pasien', 'Penyakit'],\n [],\n ['Pembuka'],\n ['Pasien', 'Usia pasien', 'Penyakit', 'Pertanyaan', 'Objek'],\n ['Pasien', 'Gejala'],\n ['Penutup'],\n [],\n [],\n ['Tindakan', 'Prakondisi'],\n ['Tindakan', 'Outcome'],\n ['Penyakit', 'Penyebab'],\n ['Penyakit', 'Penyebab'],\n ['Penyebab'],\n ['Penyebab'],\n ['Gejala'],\n [],\n ['Gejala'],\n ['Penyakit', 'Gejala', 'Prakondisi'],\n ['Pembuka'],\n ['Penyakit', 'Penyebab', 'Prakondisi'],\n ['Pasien', 'Tindakan'],\n ['Penutup'],\n ['Pasien', 'Penyakit', 'Tindakan'],\n ['Outcome', 'Prakondisi'],\n ['Tindakan', 'Objek'],\n ['Tindakan'],\n ['Penyebab'],\n ['Penyebab'],\n ['Penyebab'],\n ['Penyebab'],\n ['Penyebab'],\n ['Penyebab'],\n ['Penyebab'],\n ['Penyebab'],\n ['Pembuka'],\n ['Pasien', 'Penyakit', 'Gejala'],\n ['Pasien', 'Penyakit', 'Tindakan'],\n ['Pasien', 'Penyakit', 'Pertanyaan'],\n ['Tindakan'],\n ['Penutup'],\n ['Pasien', 'Tindakan', 'Outcome'],\n ['Gejala', 'Tindakan', 'Outcome'],\n [],\n ['Tindakan', 'Outcome'],\n ['Gejala'],\n [],\n ['Penyakit'],\n ['Pembuka'],\n ['Pasien', 'Gejala'],\n ['Pasien'],\n ['Pasien', 'Gejala', 'Pertanyaan', 'Pembuka'],\n ['Penyakit', 'Pertanyaan'],\n ['Pertanyaan'],\n ['Penutup'],\n ['Pasien', 'Penyakit', 'Gejala', 'Pertanyaan'],\n ['Penutup'],\n [],\n ['Tindakan', 'Outcome'],\n ['Tindakan'],\n ['Tindakan'],\n ['Tindakan'],\n ['Tindakan'],\n ['Tindakan', 'Outcome'],\n ['Pasien'],\n ['Gejala'],\n ['Penyakit'],\n ['Pasien', 'Penyakit', 'Gejala'],\n ['Pasien', 'Penyakit', 'Gejala'],\n ['Pasien', 'Penyakit', 'Gejala'],\n ['Gejala'],\n ['Pembuka'],\n ['Pasien', 'Gejala', 'Pembuka'],\n ['Pasien', 'Penyakit', 'Pertanyaan', 'Penutup'],\n ['Pasien', 'Penyakit'],\n ['Penutup'],\n ['Pasien', 'Penyakit', 'Gejala'],\n ['Pasien', 'Gejala'],\n ['Gejala'],\n ['Penyakit', 'Penyebab', 'Waktu'],\n ['Penyakit', 'Gejala', 'Penyebab'],\n ['Penyakit', 'Penyebab', 'Prakondisi'],\n ['Penyakit', 'Gejala'],\n ['Penyakit'],\n ['Penyakit', 'Penyebab'],\n ['Pembuka'],\n ['Penyakit', 'Pertanyaan', 'Pembuka'],\n ['Pertanyaan'],\n ['Pertanyaan'],\n ['Penutup'],\n ['Penyakit'],\n ['Penutup'],\n ['Gejala', 'Tindakan', 'Outcome'],\n ['Penyakit'],\n ['Tindakan', 'Outcome', 'Prakondisi'],\n ['Tindakan', 'Outcome'],\n ['Tindakan', 'Prakondisi'],\n ['Gejala'],\n ['Gejala'],\n ['Gejala'],\n ['Gejala'],\n ['Gejala'],\n ['Tindakan', 'Outcome'],\n ['Prakondisi'],\n [],\n ['Penyakit'],\n ['Penyakit'],\n ['Penyakit'],\n ['Penyakit'],\n ['Penyakit'],\n ['Penyakit'],\n ['Gejala', 'Tindakan'],\n ['Penyakit', 'Penyebab'],\n ['Outcome'],\n ['Prakondisi'],\n ['Prakondisi'],\n ['Prakondisi'],\n ['Pasien', 'Gejala'],\n ['Gejala', 'Tindakan', 'Pertanyaan'],\n ['Pembuka'],\n ['Pasien', 'Gejala', 'Pertanyaan'],\n ['Gejala'],\n ['Penutup'],\n ['Tindakan'],\n ['Pasien', 'Tindakan', 'Outcome'],\n ['Pasien', 'Tindakan'],\n ['Pasien', 'Tindakan'],\n ['Pasien', 'Tindakan'],\n ['Pasien', 'Tindakan'],\n ['Tindakan'],\n ['Gejala'],\n ['Gejala'],\n ['Pasien', 'Gejala'],\n ['Pasien', 'Gejala'],\n ['Pasien', 'Gejala'],\n ['Pasien', 'Gejala'],\n ['Pasien', 'Gejala'],\n ['Gejala'],\n ['Gejala'],\n ['Pasien', 'Penyakit', 'Tindakan'],\n [],\n ['Penyakit'],\n ['Penyakit'],\n ['Penyakit', 'Gejala', 'Penyebab'],\n ['Pasien', 'Penyakit', 'Gejala'],\n ['Pasien', 'Outcome', 'Objek'],\n ['Gejala'],\n ['Pasien', 'Penyakit'],\n ['Pembuka'],\n ['Pembuka'],\n ['Pembuka'],\n ['Pasien', 'Usia pasien', 'Pertanyaan'],\n ['Pasien', 'Usia pasien', 'Penyakit'],\n ['Penutup'],\n ['Penutup'],\n ['Tindakan', 'Objek'],\n ['Tindakan'],\n ['Tindakan'],\n ['Tindakan'],\n [],\n ['Tindakan'],\n [],\n ['Penyakit', 'Gejala'],\n ['Penyakit', 'Gejala'],\n ['Penyakit', 'Gejala'],\n ['Gejala'],\n ['Gejala'],\n ['Gejala'],\n ['Penyakit'],\n ['Gejala'],\n ['Gejala'],\n ['Penyakit', 'Gejala', 'Outcome'],\n ['Penyakit'],\n [],\n ['Tindakan', 'Outcome'],\n ['Penyakit', 'Penyebab'],\n ['Penyebab'],\n ['Penyakit', 'Penyebab'],\n ['Penyakit', 'Penyebab'],\n ['Penyakit', 'Penyebab'],\n ['Penyebab'],\n ['Penyebab', 'Objek'],\n ['Penyebab'],\n [],\n ['Pasien', 'Usia pasien', 'Penyakit', 'Gejala'],\n ['Penyakit', 'Tindakan'],\n [],\n [],\n [],\n [],\n ['Penyakit'],\n ['Gejala'],\n [],\n ['Pasien', 'Usia pasien', 'Penyakit'],\n [],\n ...]"
     },
     "execution_count": 214,
     "metadata": {},
     "output_type": "execute_result"
    }
   ],
   "source": [
    "label_list"
   ],
   "metadata": {
    "collapsed": false
   }
  },
  {
   "cell_type": "code",
   "execution_count": 215,
   "outputs": [
    {
     "data": {
      "text/plain": "            id                                               text  \\\n0      821-1-0                                                  p   \n1      816-1-0                                              salam   \n2      815-1-0                                semoga membantu iya   \n3      814-1-0                     hindari konsumsi alkohol rokok   \n4      813-1-0                                     olahraga rutin   \n...        ...                                                ...   \n1454  15-2-735  salahnya periksakan dokter dokter anak sub spe...   \n1455     9-2-0  usia sewajarnya kosa dikuasai anak nama usia d...   \n1456   9-2-196  anak seusia merangkai kalimat mudah dipahami o...   \n1457   9-2-331      mengalami menarik mahir menceritakannya orang   \n1458     6-2-0  hallo dok anak kembar laki usia lancar bicara ...   \n\n                                                  Label  \n0                                                    []  \n1                                             [Penutup]  \n2                                             [Penutup]  \n3                                     [Tindakan, Objek]  \n4                                            [Tindakan]  \n...                                                 ...  \n1454                                         [Tindakan]  \n1455                              [Pasien, Usia pasien]  \n1456                                  [Pasien, Outcome]  \n1457                                          [Outcome]  \n1458  [Pasien, Usia pasien, Gejala, Tindakan, Pembuk...  \n\n[1459 rows x 3 columns]",
      "text/html": "<div>\n<style scoped>\n    .dataframe tbody tr th:only-of-type {\n        vertical-align: middle;\n    }\n\n    .dataframe tbody tr th {\n        vertical-align: top;\n    }\n\n    .dataframe thead th {\n        text-align: right;\n    }\n</style>\n<table border=\"1\" class=\"dataframe\">\n  <thead>\n    <tr style=\"text-align: right;\">\n      <th></th>\n      <th>id</th>\n      <th>text</th>\n      <th>Label</th>\n    </tr>\n  </thead>\n  <tbody>\n    <tr>\n      <th>0</th>\n      <td>821-1-0</td>\n      <td>p</td>\n      <td>[]</td>\n    </tr>\n    <tr>\n      <th>1</th>\n      <td>816-1-0</td>\n      <td>salam</td>\n      <td>[Penutup]</td>\n    </tr>\n    <tr>\n      <th>2</th>\n      <td>815-1-0</td>\n      <td>semoga membantu iya</td>\n      <td>[Penutup]</td>\n    </tr>\n    <tr>\n      <th>3</th>\n      <td>814-1-0</td>\n      <td>hindari konsumsi alkohol rokok</td>\n      <td>[Tindakan, Objek]</td>\n    </tr>\n    <tr>\n      <th>4</th>\n      <td>813-1-0</td>\n      <td>olahraga rutin</td>\n      <td>[Tindakan]</td>\n    </tr>\n    <tr>\n      <th>...</th>\n      <td>...</td>\n      <td>...</td>\n      <td>...</td>\n    </tr>\n    <tr>\n      <th>1454</th>\n      <td>15-2-735</td>\n      <td>salahnya periksakan dokter dokter anak sub spe...</td>\n      <td>[Tindakan]</td>\n    </tr>\n    <tr>\n      <th>1455</th>\n      <td>9-2-0</td>\n      <td>usia sewajarnya kosa dikuasai anak nama usia d...</td>\n      <td>[Pasien, Usia pasien]</td>\n    </tr>\n    <tr>\n      <th>1456</th>\n      <td>9-2-196</td>\n      <td>anak seusia merangkai kalimat mudah dipahami o...</td>\n      <td>[Pasien, Outcome]</td>\n    </tr>\n    <tr>\n      <th>1457</th>\n      <td>9-2-331</td>\n      <td>mengalami menarik mahir menceritakannya orang</td>\n      <td>[Outcome]</td>\n    </tr>\n    <tr>\n      <th>1458</th>\n      <td>6-2-0</td>\n      <td>hallo dok anak kembar laki usia lancar bicara ...</td>\n      <td>[Pasien, Usia pasien, Gejala, Tindakan, Pembuk...</td>\n    </tr>\n  </tbody>\n</table>\n<p>1459 rows × 3 columns</p>\n</div>"
     },
     "execution_count": 215,
     "metadata": {},
     "output_type": "execute_result"
    }
   ],
   "source": [
    "dataset = dataset.drop(columns=[\"Pasien\", \"Usia pasien\", \"Penyakit\", \"Gejala\", \"Tindakan\", \"Outcome\", \"Pertanyaan\", \"Pembuka\", \"Penyebab\", \"Prakondisi\", \"Objek\", \"Penutup\", \"Waktu\", \"Unnamed: 0\"])\n",
    "dataset['Label'] = label_list\n",
    "dataset"
   ],
   "metadata": {
    "collapsed": false
   }
  },
  {
   "cell_type": "code",
   "execution_count": 216,
   "outputs": [
    {
     "name": "stdout",
     "output_type": "stream",
     "text": [
      "Number of text for training:  1167\n",
      "Number of text for validation:  292\n"
     ]
    }
   ],
   "source": [
    "X_train, X_val, y_train, y_val = train_test_split(dataset['text'], dataset['Label'], test_size=0.2, random_state=42)\n",
    "print(\"Number of text for training: \", len(X_train))\n",
    "print(\"Number of text for validation: \", len(X_val))"
   ],
   "metadata": {
    "collapsed": false
   }
  },
  {
   "cell_type": "code",
   "execution_count": 217,
   "outputs": [
    {
     "data": {
      "text/plain": "254                                            malnutrisi\n1065                                          disembuhkan\n864                       membina hubungan keluarga sehat\n798     jenis makanan cemilan memilih buah buahan poto...\n380                                anak diam diajak jalan\n                              ...                        \n1095                                       olahraga rutin\n1130                   susah fokus melamun lupa lain-lain\n1294    memiliki bingung memiliki akses biaya jaminan ...\n860     anak cenderung aktif sulit fokus adakah hubung...\n1126                                terimakasih alodokter\nName: text, Length: 1167, dtype: object"
     },
     "execution_count": 217,
     "metadata": {},
     "output_type": "execute_result"
    }
   ],
   "source": [
    "X_train"
   ],
   "metadata": {
    "collapsed": false
   }
  },
  {
   "cell_type": "code",
   "execution_count": 218,
   "outputs": [
    {
     "data": {
      "text/plain": "254                                 [Penyebab]\n1065                              [Pertanyaan]\n864                                 [Tindakan]\n798                                    [Objek]\n380              [Gejala, Outcome, Prakondisi]\n                         ...                  \n1095                                [Tindakan]\n1130                                  [Gejala]\n1294                                        []\n860     [Pasien, Penyakit, Gejala, Pertanyaan]\n1126                                 [Pembuka]\nName: Label, Length: 1167, dtype: object"
     },
     "execution_count": 218,
     "metadata": {},
     "output_type": "execute_result"
    }
   ],
   "source": [
    "y_train"
   ],
   "metadata": {
    "collapsed": false
   }
  },
  {
   "cell_type": "code",
   "execution_count": 219,
   "outputs": [
    {
     "data": {
      "text/plain": "[['Penyebab'], ['Pertanyaan'], ['Tindakan']]"
     },
     "execution_count": 219,
     "metadata": {},
     "output_type": "execute_result"
    }
   ],
   "source": [
    "y_train = list(y_train)\n",
    "y_val = list(y_val)\n",
    "y_train[:3]"
   ],
   "metadata": {
    "collapsed": false
   }
  },
  {
   "cell_type": "code",
   "execution_count": 220,
   "outputs": [
    {
     "name": "stdout",
     "output_type": "stream",
     "text": [
      "Labels:\n",
      "0. Gejala\n",
      "1. Objek\n",
      "2. Outcome\n",
      "3. Pasien\n",
      "4. Pembuka\n",
      "5. Penutup\n",
      "6. Penyakit\n",
      "7. Penyebab\n",
      "8. Pertanyaan\n",
      "9. Prakondisi\n",
      "10. Tindakan\n",
      "11. Usia pasien\n",
      "12. Waktu\n"
     ]
    }
   ],
   "source": [
    "# Fit the multi-label binarizer on the training set\n",
    "print(\"Labels:\")\n",
    "mlb = MultiLabelBinarizer()\n",
    "mlb.fit(y_train)\n",
    "\n",
    "# Loop over all labels and show them\n",
    "N_LABELS = len(mlb.classes_)\n",
    "for (i, label) in enumerate(mlb.classes_):\n",
    "    print(\"{}. {}\".format(i, label))"
   ],
   "metadata": {
    "collapsed": false
   }
  },
  {
   "cell_type": "code",
   "execution_count": 221,
   "outputs": [
    {
     "data": {
      "text/plain": "13"
     },
     "execution_count": 221,
     "metadata": {},
     "output_type": "execute_result"
    }
   ],
   "source": [
    "N_LABELS"
   ],
   "metadata": {
    "collapsed": false
   }
  },
  {
   "cell_type": "code",
   "execution_count": 259,
   "outputs": [
    {
     "data": {
      "text/plain": "array([[0, 0, 0, ..., 0, 0, 0],\n       [0, 0, 0, ..., 0, 0, 0],\n       [0, 0, 0, ..., 1, 0, 0],\n       ...,\n       [0, 0, 0, ..., 0, 0, 0],\n       [1, 0, 0, ..., 0, 0, 0],\n       [0, 0, 0, ..., 0, 0, 0]])"
     },
     "execution_count": 259,
     "metadata": {},
     "output_type": "execute_result"
    }
   ],
   "source": [
    "# transform the targets of the training and test sets\n",
    "y_train_bin = mlb.transform(y_train)\n",
    "y_val_bin = mlb.transform(y_val)"
   ],
   "metadata": {
    "collapsed": false
   }
  },
  {
   "cell_type": "code",
   "execution_count": 223,
   "outputs": [],
   "source": [
    "# BATCH_SIZE = 256 # Big enough to measure an F1-score\n",
    "# AUTOTUNE = tf.data.experimental.AUTOTUNE # Adapt preprocessing and prefetching dynamically\n",
    "# SHUFFLE_BUFFER_SIZE = 1024 # Shuffle the training data by a chunck of 1024 observations"
   ],
   "metadata": {
    "collapsed": false
   }
  },
  {
   "cell_type": "code",
   "execution_count": 224,
   "outputs": [],
   "source": [
    "# def create_dataset(filenames, labels, is_training=True):\n",
    "#     \"\"\"Load and parse dataset.\n",
    "#     Args:\n",
    "#         filenames: list of image paths\n",
    "#         labels: numpy array of shape (BATCH_SIZE, N_LABELS)\n",
    "#         is_training: boolean to indicate training mode\n",
    "#     \"\"\"\n",
    "#     filenames = np.asarray(filenames).astype('str')\n",
    "#\n",
    "#     # Create a first dataset of file paths and labels\n",
    "#     new_dataset = tf.data.Dataset.from_tensor_slices((filenames, labels))\n",
    "#     # Parse and preprocess observations in parallel\n",
    "#\n",
    "#     if is_training:\n",
    "#         # This is a small dataset, only load it once, and keep it in memory.\n",
    "#         new_dataset = new_dataset.cache()\n",
    "#         # Shuffle the data each buffer size\n",
    "#         new_dataset = new_dataset.shuffle(buffer_size=SHUFFLE_BUFFER_SIZE)\n",
    "#\n",
    "#     # Batch the data for multiple steps\n",
    "#     new_dataset = new_dataset.batch(BATCH_SIZE)\n",
    "#     # Fetch batches in the background while the model is training.\n",
    "#     new_dataset = new_dataset.prefetch(buffer_size=AUTOTUNE)\n",
    "#\n",
    "#     return new_dataset"
   ],
   "metadata": {
    "collapsed": false
   }
  },
  {
   "cell_type": "code",
   "execution_count": 225,
   "outputs": [],
   "source": [
    "# train_ds = create_dataset(X_train, y_train_bin)\n",
    "# val_ds = create_dataset(X_val, y_val_bin)"
   ],
   "metadata": {
    "collapsed": false
   }
  },
  {
   "cell_type": "code",
   "execution_count": 262,
   "outputs": [
    {
     "data": {
      "text/plain": "1321    adhd attention deficit hyperactivity disorder ...\n836                              kerusakan otak kandungan\n413     jalin komunikasi keluarga sahabat orang pelaja...\n522     marahi anak trauma berbicara penyebab keterlam...\n1035    adhd atauattention deficit hyperactivity disor...\n                              ...                        \n479     anak mengalami ketidak tertarikan kejenuhan to...\n1360    tama berkonsultasi psikolog psikiater anak men...\n1414                         semoga membantu terima kasih\n650                                             informasi\n721                          gerak muncul area wajah anak\nName: text, Length: 292, dtype: object"
     },
     "execution_count": 262,
     "metadata": {},
     "output_type": "execute_result"
    }
   ],
   "source": [
    "X_val"
   ],
   "metadata": {
    "collapsed": false
   }
  },
  {
   "cell_type": "code",
   "execution_count": 268,
   "outputs": [],
   "source": [
    "# Parameters\n",
    "vocab_size = 10000\n",
    "max_length = 120\n",
    "trunc_type='post'\n",
    "oov_tok = \"<OOV>\"\n",
    "\n",
    "# Initialize the Tokenizer class\n",
    "tokenizer = Tokenizer(num_words = vocab_size, oov_token=oov_tok)\n",
    "\n",
    "# Generate the word index dictionary for the training sentences\n",
    "tokenizer.fit_on_texts(X_train.astype('str'))\n",
    "word_index = tokenizer.word_index\n",
    "\n",
    "# Generate and pad the training sequences\n",
    "sequences = tokenizer.texts_to_sequences(X_train.astype('str'))\n",
    "padded = pad_sequences(sequences,maxlen=max_length, truncating=trunc_type)\n",
    "\n",
    "# Generate and pad the test sequences\n",
    "testing_sequences = tokenizer.texts_to_sequences(X_val.astype('str'))\n",
    "testing_padded = pad_sequences(testing_sequences,maxlen=max_length)"
   ],
   "metadata": {
    "collapsed": false
   }
  },
  {
   "cell_type": "code",
   "execution_count": null,
   "outputs": [],
   "source": [
    "# model = tf.keras.Sequential([\n",
    "#     feature_extractor_layer,\n",
    "#     layers.Dense(1024, activation='relu', name='hidden_layer'),\n",
    "#     layers.Dense(N_LABELS, activation='sigmoid', name='output')\n",
    "# ])\n",
    "#\n",
    "# model.summary()"
   ],
   "metadata": {
    "collapsed": false
   }
  },
  {
   "cell_type": "code",
   "execution_count": 294,
   "outputs": [
    {
     "name": "stdout",
     "output_type": "stream",
     "text": [
      "Model: \"sequential_1\"\n",
      "_________________________________________________________________\n",
      " Layer (type)                Output Shape              Param #   \n",
      "=================================================================\n",
      " embedding_1 (Embedding)     (None, 120, 256)          2560000   \n",
      "                                                                 \n",
      " bidirectional_2 (Bidirectio  (None, 120, 512)         1050624   \n",
      " nal)                                                            \n",
      "                                                                 \n",
      " bidirectional_3 (Bidirectio  (None, 256)              656384    \n",
      " nal)                                                            \n",
      "                                                                 \n",
      " dense_2 (Dense)             (None, 256)               65792     \n",
      "                                                                 \n",
      " dense_3 (Dense)             (None, 13)                3341      \n",
      "                                                                 \n",
      "=================================================================\n",
      "Total params: 4,336,141\n",
      "Trainable params: 4,336,141\n",
      "Non-trainable params: 0\n",
      "_________________________________________________________________\n"
     ]
    }
   ],
   "source": [
    "# Hyperparameters\n",
    "embedding_dim = 256\n",
    "lstm1_dim = 256\n",
    "lstm2_dim = 128\n",
    "dense_dim = 256\n",
    "\n",
    "# Build the model\n",
    "model = tf.keras.Sequential([\n",
    "    tf.keras.layers.Embedding(vocab_size, embedding_dim, input_length=max_length),\n",
    "    tf.keras.layers.Bidirectional(tf.keras.layers.LSTM(lstm1_dim, return_sequences=True)),\n",
    "    tf.keras.layers.Bidirectional(tf.keras.layers.LSTM(lstm2_dim)),\n",
    "    tf.keras.layers.Dense(dense_dim, activation='relu'),\n",
    "    tf.keras.layers.Dense(N_LABELS, activation='sigmoid')\n",
    "])\n",
    "\n",
    "# Print the model summary\n",
    "model.summary()"
   ],
   "metadata": {
    "collapsed": false
   }
  },
  {
   "cell_type": "code",
   "execution_count": 295,
   "outputs": [],
   "source": [
    "# Set the training parameters\n",
    "model.compile(loss='categorical_crossentropy', optimizer='adam', metrics=['accuracy'])"
   ],
   "metadata": {
    "collapsed": false
   }
  },
  {
   "cell_type": "code",
   "execution_count": 296,
   "outputs": [
    {
     "name": "stdout",
     "output_type": "stream",
     "text": [
      "Epoch 1/5\n",
      "10/10 [==============================] - 37s 3s/step - loss: 3.5284 - accuracy: 0.1037 - val_loss: 3.5688 - val_accuracy: 0.3185\n",
      "Epoch 2/5\n",
      "10/10 [==============================] - 41s 4s/step - loss: 3.5700 - accuracy: 0.1911 - val_loss: 3.7092 - val_accuracy: 0.3185\n",
      "Epoch 3/5\n",
      "10/10 [==============================] - 44s 4s/step - loss: 3.6117 - accuracy: 0.1808 - val_loss: 3.6599 - val_accuracy: 0.3185\n",
      "Epoch 4/5\n",
      "10/10 [==============================] - 45s 5s/step - loss: 3.5767 - accuracy: 0.1680 - val_loss: 3.4771 - val_accuracy: 0.1301\n",
      "Epoch 5/5\n",
      "10/10 [==============================] - 45s 4s/step - loss: 3.4123 - accuracy: 0.1131 - val_loss: 3.5700 - val_accuracy: 0.3185\n"
     ]
    }
   ],
   "source": [
    "NUM_EPOCHS = 5\n",
    "BATCH_SIZE = 128\n",
    "\n",
    "# Train the model\n",
    "history_lstm = model.fit(padded, y_train_bin, batch_size=BATCH_SIZE, epochs=NUM_EPOCHS, validation_data=(testing_padded, y_val_bin))"
   ],
   "metadata": {
    "collapsed": false
   }
  },
  {
   "cell_type": "code",
   "execution_count": 297,
   "outputs": [
    {
     "data": {
      "text/plain": "<Figure size 432x288 with 1 Axes>",
      "image/png": "[encoded data removed]"
     },
     "metadata": {
      "needs_background": "light"
     },
     "output_type": "display_data"
    },
    {
     "data": {
      "text/plain": "<Figure size 432x288 with 1 Axes>",
      "image/png": "[encoded data removed]"
     },
     "metadata": {
      "needs_background": "light"
     },
     "output_type": "display_data"
    }
   ],
   "source": [
    "# Plot Utility\n",
    "def plot_graphs(graph, string):\n",
    "    plt.plot(graph.history[string])\n",
    "    plt.plot(graph.history['val_'+string])\n",
    "    plt.xlabel(\"Epochs\")\n",
    "    plt.ylabel(string)\n",
    "    plt.legend([string, 'val_'+string])\n",
    "    plt.show()\n",
    "\n",
    "# Plot the accuracy and loss history\n",
    "plot_graphs(history_lstm, 'accuracy')\n",
    "plot_graphs(history_lstm, 'loss')"
   ],
   "metadata": {
    "collapsed": false
   }
  },
  {
   "cell_type": "code",
   "execution_count": 289,
   "outputs": [],
   "source": [
    "@tf.function\n",
    "def macro_soft_f1(y, y_hat):\n",
    "    \"\"\"Compute the macro soft F1-score as a cost (average 1 - soft-F1 across all labels).\n",
    "    Use probability values instead of binary predictions.\n",
    "\n",
    "    Args:\n",
    "        y (int32 Tensor): targets array of shape (BATCH_SIZE, N_LABELS)\n",
    "        y_hat (float32 Tensor): probability matrix from forward propagation of shape (BATCH_SIZE, N_LABELS)\n",
    "\n",
    "    Returns:\n",
    "        cost (scalar Tensor): value of the cost function for the batch\n",
    "    \"\"\"\n",
    "    y = tf.cast(y, tf.float32)\n",
    "    y_hat = tf.cast(y_hat, tf.float32)\n",
    "    tp = tf.reduce_sum(y_hat * y, axis=0)\n",
    "    fp = tf.reduce_sum(y_hat * (1 - y), axis=0)\n",
    "    fn = tf.reduce_sum((1 - y_hat) * y, axis=0)\n",
    "    soft_f1 = 2*tp / (2*tp + fn + fp + 1e-16)\n",
    "    cost = 1 - soft_f1 # reduce 1 - soft-f1 in order to increase soft-f1\n",
    "    macro_cost = tf.reduce_mean(cost) # average on all labels\n",
    "    return macro_cost"
   ],
   "metadata": {
    "collapsed": false
   }
  },
  {
   "cell_type": "code",
   "execution_count": 290,
   "outputs": [],
   "source": [
    "@tf.function\n",
    "def macro_f1(y, y_hat, thresh=0.5):\n",
    "    \"\"\"Compute the macro F1-score on a batch of observations (average F1 across labels)\n",
    "\n",
    "    Args:\n",
    "        y (int32 Tensor): labels array of shape (BATCH_SIZE, N_LABELS)\n",
    "        y_hat (float32 Tensor): probability matrix from forward propagation of shape (BATCH_SIZE, N_LABELS)\n",
    "        thresh: probability value above which we predict positive\n",
    "\n",
    "    Returns:\n",
    "        macro_f1 (scalar Tensor): value of macro F1 for the batch\n",
    "    \"\"\"\n",
    "    y_pred = tf.cast(tf.greater(y_hat, thresh), tf.float32)\n",
    "    tp = tf.cast(tf.math.count_nonzero(y_pred * y, axis=0), tf.float32)\n",
    "    fp = tf.cast(tf.math.count_nonzero(y_pred * (1 - y), axis=0), tf.float32)\n",
    "    fn = tf.cast(tf.math.count_nonzero((1 - y_pred) * y, axis=0), tf.float32)\n",
    "    f1 = 2*tp / (2*tp + fn + fp + 1e-16)\n",
    "    macro_f1 = tf.reduce_mean(f1)\n",
    "    return macro_f1"
   ],
   "metadata": {
    "collapsed": false
   }
  },
  {
   "cell_type": "code",
   "execution_count": 292,
   "outputs": [],
   "source": [
    "LR = 1e-3  # Keep it small when transfer learning\n",
    "EPOCHS = 10\n",
    "\n",
    "# Compile the model to configure the training process.\n",
    "model.compile(\n",
    "    optimizer=tf.keras.optimizers.Adam(learning_rate=LR),\n",
    "    loss=macro_soft_f1,\n",
    "    metrics=[macro_f1, 'accuracy'])"
   ],
   "metadata": {
    "collapsed": false
   }
  },
  {
   "cell_type": "code",
   "execution_count": 293,
   "outputs": [
    {
     "name": "stdout",
     "output_type": "stream",
     "text": [
      "Epoch 1/10\n",
      "37/37 [==============================] - 15s 184ms/step - loss: 0.8154 - macro_f1: 0.1862 - accuracy: 0.3196 - val_loss: 0.8104 - val_macro_f1: 0.1910 - val_accuracy: 0.3185\n",
      "Epoch 2/10\n",
      "37/37 [==============================] - 5s 148ms/step - loss: 0.8146 - macro_f1: 0.1861 - accuracy: 0.3196 - val_loss: 0.8104 - val_macro_f1: 0.1910 - val_accuracy: 0.3185\n",
      "Epoch 3/10\n",
      "37/37 [==============================] - 6s 151ms/step - loss: 0.8148 - macro_f1: 0.1855 - accuracy: 0.3196 - val_loss: 0.8104 - val_macro_f1: 0.1910 - val_accuracy: 0.3185\n",
      "Epoch 4/10\n",
      "37/37 [==============================] - 5s 147ms/step - loss: 0.8150 - macro_f1: 0.1847 - accuracy: 0.3196 - val_loss: 0.8104 - val_macro_f1: 0.1910 - val_accuracy: 0.3185\n",
      "Epoch 5/10\n",
      "37/37 [==============================] - 6s 149ms/step - loss: 0.8143 - macro_f1: 0.1856 - accuracy: 0.3196 - val_loss: 0.8104 - val_macro_f1: 0.1910 - val_accuracy: 0.3185\n",
      "Epoch 6/10\n",
      "37/37 [==============================] - 6s 150ms/step - loss: 0.8147 - macro_f1: 0.1858 - accuracy: 0.3196 - val_loss: 0.8104 - val_macro_f1: 0.1910 - val_accuracy: 0.3185\n",
      "Epoch 7/10\n",
      "37/37 [==============================] - 5s 148ms/step - loss: 0.8149 - macro_f1: 0.1852 - accuracy: 0.3196 - val_loss: 0.8104 - val_macro_f1: 0.1910 - val_accuracy: 0.3185\n",
      "Epoch 8/10\n",
      "37/37 [==============================] - 6s 151ms/step - loss: 0.8144 - macro_f1: 0.1856 - accuracy: 0.3196 - val_loss: 0.8104 - val_macro_f1: 0.1910 - val_accuracy: 0.3185\n",
      "Epoch 9/10\n",
      "37/37 [==============================] - 5s 147ms/step - loss: 0.8146 - macro_f1: 0.1844 - accuracy: 0.3196 - val_loss: 0.8104 - val_macro_f1: 0.1910 - val_accuracy: 0.3185\n",
      "Epoch 10/10\n",
      "37/37 [==============================] - 6s 155ms/step - loss: 0.8149 - macro_f1: 0.1854 - accuracy: 0.3196 - val_loss: 0.8104 - val_macro_f1: 0.1910 - val_accuracy: 0.3185\n"
     ]
    }
   ],
   "source": [
    "history = model.fit(padded, y_train_bin,\n",
    "                    epochs=EPOCHS,\n",
    "                    validation_data=(testing_padded, y_val_bin))"
   ],
   "metadata": {
    "collapsed": false
   }
  },
  {
   "cell_type": "code",
   "execution_count": null,
   "outputs": [],
   "source": [
    "CSV_PATH = 'cleaned_dataset.csv'\n",
    "LANG = 'idn'\n",
    "API = 'google'\n",
    "\n",
    "\n",
    "def translator_constructor(api):\n",
    "    if api == 'google':\n",
    "        return ts.google\n",
    "    elif api == 'bing':\n",
    "        return ts.bing\n",
    "    elif api == 'baidu':\n",
    "        return ts.baidu\n",
    "    elif api == 'sogou':\n",
    "        return ts.sogou\n",
    "    elif api == 'youdao':\n",
    "        return ts.youdao\n",
    "    elif api == 'tencent':\n",
    "        return ts.tencent\n",
    "    elif api == 'alibaba':\n",
    "        return ts.alibaba\n",
    "    else:\n",
    "        raise NotImplementedError(f'{api} translator is not realised!')\n",
    "\n",
    "\n",
    "def translate(x):\n",
    "    try:\n",
    "        return [x[0], translator_constructor(API)(x[1], 'en', LANG), x[2]]\n",
    "    except:\n",
    "        return [x[0], None, [2]]\n",
    "\n",
    "\n",
    "def imap_unordered_bar(func, args, n_processes: int = 48):\n",
    "    p = Pool(n_processes, maxtasksperchild=100)\n",
    "    res_list = []\n",
    "    with tqdm(total=len(args)) as pbar:\n",
    "        for idx, res in tqdm(enumerate(p.imap_unordered(func, args))):\n",
    "            pbar.update()\n",
    "            res_list.append(res)\n",
    "    pbar.close()\n",
    "    p.close()\n",
    "    p.join()\n",
    "    return res_list\n",
    "\n",
    "\n",
    "def back_translate():\n",
    "    df = pd.read_csv(CSV_PATH).sample(100)\n",
    "    tqdm.pandas()\n",
    "    df[['id', 'text', 'Penyakit']] = imap_unordered_bar(translate, df[['id', 'text', 'Penyakit']].values)\n",
    "    df.to_csv(f'augmented_data-{API}-{LANG}.csv')"
   ],
   "metadata": {
    "collapsed": false,
    "pycharm": {
     "is_executing": true
    }
   }
  },
  {
   "cell_type": "code",
   "execution_count": null,
   "outputs": [
    {
     "name": "stderr",
     "output_type": "stream",
     "text": [
      "  0%|          | 0/100 [00:00<?, ?it/s]\n",
      "0it [00:00, ?it/s]\u001B[AException in thread Thread-5 (_handle_workers):\n",
      "Traceback (most recent call last):\n",
      "  File \"C:\\Users\\user\\AppData\\Local\\Programs\\Python\\Python310\\lib\\threading.py\", line 1009, in _bootstrap_inner\n",
      "    self.run()\n",
      "  File \"C:\\Users\\user\\AppData\\Local\\Programs\\Python\\Python310\\lib\\threading.py\", line 946, in run\n",
      "    self._target(*self._args, **self._kwargs)\n",
      "  File \"C:\\Users\\user\\AppData\\Local\\Programs\\Python\\Python310\\lib\\multiprocessing\\pool.py\", line 513, in _handle_workers\n",
      "    cls._maintain_pool(ctx, Process, processes, pool, inqueue,\n",
      "  File \"C:\\Users\\user\\AppData\\Local\\Programs\\Python\\Python310\\lib\\multiprocessing\\pool.py\", line 337, in _maintain_pool\n",
      "    Pool._repopulate_pool_static(ctx, Process, processes, pool,\n",
      "  File \"C:\\Users\\user\\AppData\\Local\\Programs\\Python\\Python310\\lib\\multiprocessing\\pool.py\", line 326, in _repopulate_pool_static\n",
      "    w.start()\n",
      "  File \"C:\\Users\\user\\AppData\\Local\\Programs\\Python\\Python310\\lib\\multiprocessing\\process.py\", line 121, in start\n",
      "    self._popen = self._Popen(self)\n",
      "  File \"C:\\Users\\user\\AppData\\Local\\Programs\\Python\\Python310\\lib\\multiprocessing\\context.py\", line 327, in _Popen\n",
      "    return Popen(process_obj)\n",
      "  File \"C:\\Users\\user\\AppData\\Local\\Programs\\Python\\Python310\\lib\\multiprocessing\\popen_spawn_win32.py\", line 93, in __init__\n",
      "    reduction.dump(process_obj, to_child)\n",
      "  File \"C:\\Users\\user\\AppData\\Local\\Programs\\Python\\Python310\\lib\\multiprocessing\\reduction.py\", line 60, in dump\n",
      "    ForkingPickler(file, protocol).dump(obj)\n",
      "  File \"C:\\Users\\user\\AppData\\Local\\Programs\\Python\\Python310\\lib\\multiprocessing\\synchronize.py\", line 104, in __getstate__\n",
      "    h = context.get_spawning_popen().duplicate_for_child(sl.handle)\n",
      "  File \"C:\\Users\\user\\AppData\\Local\\Programs\\Python\\Python310\\lib\\multiprocessing\\popen_spawn_win32.py\", line 99, in duplicate_for_child\n",
      "    return reduction.duplicate(handle, self.sentinel)\n",
      "  File \"C:\\Users\\user\\AppData\\Local\\Programs\\Python\\Python310\\lib\\multiprocessing\\reduction.py\", line 79, in duplicate\n",
      "    return _winapi.DuplicateHandle(\n",
      "PermissionError: [WinError 5] Access is denied\n"
     ]
    }
   ],
   "source": [
    "back_translate()"
   ],
   "metadata": {
    "collapsed": false,
    "pycharm": {
     "is_executing": true
    }
   }
  },
  {
   "cell_type": "code",
   "execution_count": null,
   "outputs": [],
   "source": [],
   "metadata": {
    "collapsed": false
   }
  }
 ],
 "metadata": {
  "kernelspec": {
   "display_name": "Python 3",
   "language": "python",
   "name": "python3"
  },
  "language_info": {
   "codemirror_mode": {
    "name": "ipython",
    "version": 2
   },
   "file_extension": ".py",
   "mimetype": "text/x-python",
   "name": "python",
   "nbconvert_exporter": "python",
   "pygments_lexer": "ipython2",
   "version": "2.7.6"
  }
 },
 "nbformat": 4,
 "nbformat_minor": 0
}
