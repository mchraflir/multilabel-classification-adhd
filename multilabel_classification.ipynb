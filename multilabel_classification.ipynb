{
 "cells": [
  {
   "cell_type": "code",
   "execution_count": 297,
   "metadata": {
    "collapsed": true,
    "pycharm": {
     "name": "#%%\n"
    }
   },
   "outputs": [],
   "source": [
    "import re\n",
    "import matplotlib\n",
    "import numpy as np\n",
    "import matplotlib.pyplot as plt\n",
    "import pandas as pd\n",
    "from sklearn.model_selection import train_test_split\n",
    "from sklearn.feature_extraction.text import TfidfVectorizer\n",
    "from sklearn.naive_bayes import MultinomialNB\n",
    "from sklearn.metrics import accuracy_score\n",
    "from sklearn.multiclass import OneVsRestClassifier\n",
    "from nltk.corpus import stopwords\n",
    "stop_words = set(stopwords.words('english'))\n",
    "from sklearn.svm import LinearSVC\n",
    "from sklearn.linear_model import LogisticRegression\n",
    "from sklearn.pipeline import Pipeline\n",
    "from sklearn.metrics import precision_score, recall_score, f1_score\n",
    "from sklearn.model_selection import StratifiedShuffleSplit"
   ]
  },
  {
   "cell_type": "code",
   "execution_count": 298,
   "outputs": [],
   "source": [
    "df = pd.read_csv('dataset_with_split.csv', encoding='utf8')"
   ],
   "metadata": {
    "collapsed": false,
    "pycharm": {
     "name": "#%%\n"
    }
   }
  },
  {
   "cell_type": "code",
   "execution_count": 299,
   "outputs": [
    {
     "data": {
      "text/plain": "        id                                    text  annotator  annotation_id  \\\n0  821-1-0                                       P          1            821   \n1  816-1-0                                   Salam          1            816   \n2  815-1-0                      Semoga membantu ya          1            815   \n3  814-1-0      Hindari konsumsi Alkohol dan rokok          1            814   \n4  813-1-0                          Olahraga rutin          1            813   \n\n                    created_at                   updated_at  lead_time  \\\n0  2022-11-16T05:55:53.144042Z  2022-11-16T05:55:53.144067Z      1.258   \n1  2022-11-15T13:58:27.795105Z  2022-11-15T13:58:27.795139Z     17.363   \n2  2022-11-15T13:58:09.067035Z  2022-11-15T13:58:09.067086Z      6.970   \n3  2022-11-15T13:57:53.571838Z  2022-11-15T13:58:00.947210Z      6.827   \n4  2022-11-15T13:57:50.069477Z  2022-11-15T13:57:50.069509Z      1.720   \n\n   Pasien  Usia pasien  Penyakit  ...  Pertanyaan  Pembuka  Penyebab  \\\n0       0            0         0  ...           0        0         0   \n1       0            0         0  ...           0        0         0   \n2       0            0         0  ...           0        0         0   \n3       0            0         0  ...           0        0         0   \n4       0            0         0  ...           0        0         0   \n\n   Prakondisi  Objek  Penutup  Referensi  Artikel  Pengukuran  Predikat  \n0           0      0        0          0        0           0         0  \n1           0      0        1          0        0           0         0  \n2           0      0        1          0        0           0         0  \n3           0      1        0          0        0           0         0  \n4           0      0        0          0        0           0         0  \n\n[5 rows x 25 columns]",
      "text/html": "<div>\n<style scoped>\n    .dataframe tbody tr th:only-of-type {\n        vertical-align: middle;\n    }\n\n    .dataframe tbody tr th {\n        vertical-align: top;\n    }\n\n    .dataframe thead th {\n        text-align: right;\n    }\n</style>\n<table border=\"1\" class=\"dataframe\">\n  <thead>\n    <tr style=\"text-align: right;\">\n      <th></th>\n      <th>id</th>\n      <th>text</th>\n      <th>annotator</th>\n      <th>annotation_id</th>\n      <th>created_at</th>\n      <th>updated_at</th>\n      <th>lead_time</th>\n      <th>Pasien</th>\n      <th>Usia pasien</th>\n      <th>Penyakit</th>\n      <th>...</th>\n      <th>Pertanyaan</th>\n      <th>Pembuka</th>\n      <th>Penyebab</th>\n      <th>Prakondisi</th>\n      <th>Objek</th>\n      <th>Penutup</th>\n      <th>Referensi</th>\n      <th>Artikel</th>\n      <th>Pengukuran</th>\n      <th>Predikat</th>\n    </tr>\n  </thead>\n  <tbody>\n    <tr>\n      <th>0</th>\n      <td>821-1-0</td>\n      <td>P</td>\n      <td>1</td>\n      <td>821</td>\n      <td>2022-11-16T05:55:53.144042Z</td>\n      <td>2022-11-16T05:55:53.144067Z</td>\n      <td>1.258</td>\n      <td>0</td>\n      <td>0</td>\n      <td>0</td>\n      <td>...</td>\n      <td>0</td>\n      <td>0</td>\n      <td>0</td>\n      <td>0</td>\n      <td>0</td>\n      <td>0</td>\n      <td>0</td>\n      <td>0</td>\n      <td>0</td>\n      <td>0</td>\n    </tr>\n    <tr>\n      <th>1</th>\n      <td>816-1-0</td>\n      <td>Salam</td>\n      <td>1</td>\n      <td>816</td>\n      <td>2022-11-15T13:58:27.795105Z</td>\n      <td>2022-11-15T13:58:27.795139Z</td>\n      <td>17.363</td>\n      <td>0</td>\n      <td>0</td>\n      <td>0</td>\n      <td>...</td>\n      <td>0</td>\n      <td>0</td>\n      <td>0</td>\n      <td>0</td>\n      <td>0</td>\n      <td>1</td>\n      <td>0</td>\n      <td>0</td>\n      <td>0</td>\n      <td>0</td>\n    </tr>\n    <tr>\n      <th>2</th>\n      <td>815-1-0</td>\n      <td>Semoga membantu ya</td>\n      <td>1</td>\n      <td>815</td>\n      <td>2022-11-15T13:58:09.067035Z</td>\n      <td>2022-11-15T13:58:09.067086Z</td>\n      <td>6.970</td>\n      <td>0</td>\n      <td>0</td>\n      <td>0</td>\n      <td>...</td>\n      <td>0</td>\n      <td>0</td>\n      <td>0</td>\n      <td>0</td>\n      <td>0</td>\n      <td>1</td>\n      <td>0</td>\n      <td>0</td>\n      <td>0</td>\n      <td>0</td>\n    </tr>\n    <tr>\n      <th>3</th>\n      <td>814-1-0</td>\n      <td>Hindari konsumsi Alkohol dan rokok</td>\n      <td>1</td>\n      <td>814</td>\n      <td>2022-11-15T13:57:53.571838Z</td>\n      <td>2022-11-15T13:58:00.947210Z</td>\n      <td>6.827</td>\n      <td>0</td>\n      <td>0</td>\n      <td>0</td>\n      <td>...</td>\n      <td>0</td>\n      <td>0</td>\n      <td>0</td>\n      <td>0</td>\n      <td>1</td>\n      <td>0</td>\n      <td>0</td>\n      <td>0</td>\n      <td>0</td>\n      <td>0</td>\n    </tr>\n    <tr>\n      <th>4</th>\n      <td>813-1-0</td>\n      <td>Olahraga rutin</td>\n      <td>1</td>\n      <td>813</td>\n      <td>2022-11-15T13:57:50.069477Z</td>\n      <td>2022-11-15T13:57:50.069509Z</td>\n      <td>1.720</td>\n      <td>0</td>\n      <td>0</td>\n      <td>0</td>\n      <td>...</td>\n      <td>0</td>\n      <td>0</td>\n      <td>0</td>\n      <td>0</td>\n      <td>0</td>\n      <td>0</td>\n      <td>0</td>\n      <td>0</td>\n      <td>0</td>\n      <td>0</td>\n    </tr>\n  </tbody>\n</table>\n<p>5 rows × 25 columns</p>\n</div>"
     },
     "execution_count": 299,
     "metadata": {},
     "output_type": "execute_result"
    }
   ],
   "source": [
    "df.head()"
   ],
   "metadata": {
    "collapsed": false,
    "pycharm": {
     "name": "#%%\n"
    }
   }
  },
  {
   "cell_type": "code",
   "execution_count": 300,
   "outputs": [
    {
     "data": {
      "text/plain": "Index(['id', 'text', 'annotator', 'annotation_id', 'created_at', 'updated_at',\n       'lead_time', 'Pasien', 'Usia pasien', 'Penyakit', 'Gejala', 'Kapan',\n       'Periode', 'Tindakan', 'Outcome', 'Pertanyaan', 'Pembuka', 'Penyebab',\n       'Prakondisi', 'Objek', 'Penutup', 'Referensi', 'Artikel', 'Pengukuran',\n       'Predikat'],\n      dtype='object')"
     },
     "execution_count": 300,
     "metadata": {},
     "output_type": "execute_result"
    }
   ],
   "source": [
    "df.columns"
   ],
   "metadata": {
    "collapsed": false,
    "pycharm": {
     "name": "#%%\n"
    }
   }
  },
  {
   "cell_type": "code",
   "execution_count": 301,
   "outputs": [
    {
     "name": "stdout",
     "output_type": "stream",
     "text": [
      "(1183,)\n",
      "(296,)\n"
     ]
    }
   ],
   "source": [
    "categories = ['Pasien', 'Usia pasien', 'Penyakit', 'Gejala', 'Kapan',\n",
    "              'Periode', 'Tindakan', 'Outcome', 'Pertanyaan', 'Pembuka', 'Penyebab',\n",
    "              'Prakondisi', 'Objek', 'Penutup', 'Referensi', 'Artikel', 'Pengukuran',\n",
    "              'Predikat']\n",
    "\n",
    "# next iterasi bisa coba pakai stratified shuffle split (hlm. 55)\n",
    "# split = StratifiedShuffleSplit(n_splits=1, random_state=42, test_size=0.33)\n",
    "# for train_index, test_index in split.split()\n",
    "train, test = train_test_split(df, random_state=42, test_size=0.2, shuffle=True)\n",
    "X_train = train.text\n",
    "X_test = test.text\n",
    "y_train = train[categories]\n",
    "y_test = test[categories]\n",
    "print(X_train.shape)\n",
    "print(X_test.shape)"
   ],
   "metadata": {
    "collapsed": false,
    "pycharm": {
     "name": "#%%\n"
    }
   }
  },
  {
   "cell_type": "code",
   "execution_count": 302,
   "outputs": [],
   "source": [
    "NB_pipeline = Pipeline([\n",
    "    ('tfidf', TfidfVectorizer()),\n",
    "    ('clf', OneVsRestClassifier\n",
    "        (\n",
    "        MultinomialNB(fit_prior=True, class_prior=None)\n",
    "    )\n",
    "     )\n",
    "])"
   ],
   "metadata": {
    "collapsed": false,
    "pycharm": {
     "name": "#%%\n"
    }
   }
  },
  {
   "cell_type": "code",
   "execution_count": 303,
   "outputs": [
    {
     "name": "stderr",
     "output_type": "stream",
     "text": [
      "C:\\Users\\mrcra\\anaconda3\\envs\\myenv\\lib\\site-packages\\sklearn\\multiclass.py:77: UserWarning: Label not 14 is present in all training examples.\n",
      "  warnings.warn(\n"
     ]
    }
   ],
   "source": [
    "NB_pipeline.fit(X_train, y_train)\n",
    "prediction = NB_pipeline.predict(X_test)"
   ],
   "metadata": {
    "collapsed": false,
    "pycharm": {
     "name": "#%%\n"
    }
   }
  },
  {
   "cell_type": "code",
   "execution_count": 304,
   "outputs": [
    {
     "name": "stdout",
     "output_type": "stream",
     "text": [
      "precision score : 0.39766806130227683\n",
      "recall score : 0.9347826086956522\n",
      "f1 score : 0.5512729071261449\n"
     ]
    }
   ],
   "source": [
    "print('precision score :' , precision_score(prediction, y_test, average='weighted', zero_division=0))\n",
    "print('recall score :', recall_score(prediction, y_test, average='weighted', zero_division=0))\n",
    "print('f1 score :',f1_score(prediction, y_test, average='weighted', zero_division=0))"
   ],
   "metadata": {
    "collapsed": false,
    "pycharm": {
     "name": "#%%\n"
    }
   }
  },
  {
   "cell_type": "code",
   "execution_count": 305,
   "outputs": [
    {
     "data": {
      "text/plain": "array([[False, False,  True, False, False, False, False, False, False,\n        False, False, False, False, False, False, False, False, False]])"
     },
     "execution_count": 305,
     "metadata": {},
     "output_type": "execute_result"
    }
   ],
   "source": [
    "NB_pipeline.predict([\"ADHD\"])==1"
   ],
   "metadata": {
    "collapsed": false,
    "pycharm": {
     "name": "#%%\n"
    }
   }
  },
  {
   "cell_type": "code",
   "execution_count": 306,
   "outputs": [
    {
     "data": {
      "text/plain": "['Pasien',\n 'Usia pasien',\n 'Penyakit',\n 'Gejala',\n 'Kapan',\n 'Periode',\n 'Tindakan',\n 'Outcome',\n 'Pertanyaan',\n 'Pembuka',\n 'Penyebab',\n 'Prakondisi',\n 'Objek',\n 'Penutup',\n 'Referensi',\n 'Artikel',\n 'Pengukuran',\n 'Predikat']"
     },
     "execution_count": 306,
     "metadata": {},
     "output_type": "execute_result"
    }
   ],
   "source": [
    "categories"
   ],
   "metadata": {
    "collapsed": false,
    "pycharm": {
     "name": "#%%\n"
    }
   }
  },
  {
   "cell_type": "code",
   "execution_count": 307,
   "outputs": [],
   "source": [
    "SVC_pipeline = Pipeline([\n",
    "    ('tfidf', TfidfVectorizer(stop_words=stop_words)),\n",
    "    ('clf', OneVsRestClassifier(LinearSVC(), n_jobs=1)),\n",
    "])"
   ],
   "metadata": {
    "collapsed": false,
    "pycharm": {
     "name": "#%%\n"
    }
   }
  },
  {
   "cell_type": "code",
   "execution_count": 308,
   "outputs": [
    {
     "name": "stderr",
     "output_type": "stream",
     "text": [
      "C:\\Users\\mrcra\\anaconda3\\envs\\myenv\\lib\\site-packages\\sklearn\\multiclass.py:77: UserWarning: Label not 14 is present in all training examples.\n",
      "  warnings.warn(\n"
     ]
    }
   ],
   "source": [
    "SVC_pipeline.fit(X_train, y_train)\n",
    "prediction = SVC_pipeline.predict(X_test)"
   ],
   "metadata": {
    "collapsed": false,
    "pycharm": {
     "name": "#%%\n"
    }
   }
  },
  {
   "cell_type": "code",
   "execution_count": 309,
   "outputs": [
    {
     "name": "stdout",
     "output_type": "stream",
     "text": [
      "precision score : 0.6398239684526112\n",
      "recall score : 0.7847682119205298\n",
      "f1 score : 0.695571392446023\n"
     ]
    }
   ],
   "source": [
    "print('precision score :' , precision_score(prediction, y_test, average='weighted', zero_division=0))\n",
    "print('recall score :', recall_score(prediction, y_test, average='weighted', zero_division=0))\n",
    "print('f1 score :',f1_score(prediction, y_test, average='weighted', zero_division=0))"
   ],
   "metadata": {
    "collapsed": false,
    "pycharm": {
     "name": "#%%\n"
    }
   }
  },
  {
   "cell_type": "code",
   "execution_count": 310,
   "outputs": [],
   "source": [
    "LogReg_pipeline = Pipeline([\n",
    "    ('tfidf', TfidfVectorizer()),\n",
    "    ('clf', OneVsRestClassifier(LogisticRegression(solver='sag'), n_jobs=1)),\n",
    "])"
   ],
   "metadata": {
    "collapsed": false,
    "pycharm": {
     "name": "#%%\n"
    }
   }
  },
  {
   "cell_type": "code",
   "execution_count": 311,
   "outputs": [
    {
     "name": "stderr",
     "output_type": "stream",
     "text": [
      "C:\\Users\\mrcra\\anaconda3\\envs\\myenv\\lib\\site-packages\\sklearn\\multiclass.py:77: UserWarning: Label not 14 is present in all training examples.\n",
      "  warnings.warn(\n",
      "C:\\Users\\mrcra\\anaconda3\\envs\\myenv\\lib\\site-packages\\sklearn\\linear_model\\_sag.py:350: ConvergenceWarning: The max_iter was reached which means the coef_ did not converge\n",
      "  warnings.warn(\n"
     ]
    }
   ],
   "source": [
    "LogReg_pipeline.fit(X_train, y_train)\n",
    "prediction = LogReg_pipeline.predict(X_test)"
   ],
   "metadata": {
    "collapsed": false,
    "pycharm": {
     "name": "#%%\n"
    }
   }
  },
  {
   "cell_type": "code",
   "execution_count": 312,
   "outputs": [
    {
     "name": "stdout",
     "output_type": "stream",
     "text": [
      "precision score : 0.4970203407204738\n",
      "recall score : 0.9090909090909091\n",
      "f1 score : 0.6319075905602703\n"
     ]
    }
   ],
   "source": [
    "print('precision score :' , precision_score(prediction, y_test, average='weighted', zero_division=0))\n",
    "print('recall score :', recall_score(prediction, y_test, average='weighted', zero_division=0))\n",
    "print('f1 score :',f1_score(prediction, y_test, average='weighted', zero_division=0))"
   ],
   "metadata": {
    "collapsed": false,
    "pycharm": {
     "name": "#%%\n"
    }
   }
  }
 ],
 "metadata": {
  "kernelspec": {
   "display_name": "Python 3",
   "language": "python",
   "name": "python3"
  },
  "language_info": {
   "codemirror_mode": {
    "name": "ipython",
    "version": 2
   },
   "file_extension": ".py",
   "mimetype": "text/x-python",
   "name": "python",
   "nbconvert_exporter": "python",
   "pygments_lexer": "ipython2",
   "version": "2.7.6"
  }
 },
 "nbformat": 4,
 "nbformat_minor": 0
}