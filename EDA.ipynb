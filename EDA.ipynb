{
 "cells": [
  {
   "cell_type": "code",
   "execution_count": null,
   "metadata": {
    "collapsed": true
   },
   "outputs": [],
   "source": [
    "import pandas as pd\n",
    "import numpy as np\n",
    "import matplotlib.pyplot as plt\n",
    "import seaborn as sns\n",
    "import random"
   ]
  },
  {
   "cell_type": "code",
   "execution_count": null,
   "outputs": [],
   "source": [
    "dataset = pd.read_csv(\"dataset_with_split.csv\")\n",
    "dataset"
   ],
   "metadata": {
    "collapsed": false
   }
  },
  {
   "cell_type": "code",
   "execution_count": null,
   "outputs": [],
   "source": [
    "dataset = dataset.drop(columns=[\"annotator\", \"annotation_id\", \"created_at\", \"updated_at\", \"lead_time\"])\n",
    "dataset"
   ],
   "metadata": {
    "collapsed": false
   }
  },
  {
   "cell_type": "code",
   "execution_count": null,
   "outputs": [],
   "source": [
    "df_stat = dataset.drop(columns=[\"id\", \"text\"])\n",
    "counts = []\n",
    "categories = list(df_stat.columns.values)\n",
    "for i in categories:\n",
    "    counts.append((i, df_stat[i].sum()))\n",
    "df_stats = pd.DataFrame(counts, columns=['category', 'number_of_tag']).sort_values(\"number_of_tag\", ascending=False)\n",
    "df_stats"
   ],
   "metadata": {
    "collapsed": false
   }
  },
  {
   "cell_type": "code",
   "execution_count": null,
   "outputs": [],
   "source": [
    "jmlh = df_stats['number_of_tag'].sum()\n",
    "jmlh"
   ],
   "metadata": {
    "collapsed": false
   }
  },
  {
   "cell_type": "code",
   "execution_count": null,
   "outputs": [],
   "source": [
    "df_stats.plot(x='category', y='number_of_tag', kind='bar', legend=False, grid=False, figsize=(10, 8))\n",
    "plt.title(\"Number of tag per category\", fontsize=18)\n",
    "plt.ylabel('# of Occurrences', fontsize=16)\n",
    "plt.xlabel('category', fontsize=16)"
   ],
   "metadata": {
    "collapsed": false
   }
  },
  {
   "cell_type": "code",
   "execution_count": null,
   "outputs": [],
   "source": [
    "df_stat.iloc[:,2:]"
   ],
   "metadata": {
    "collapsed": false
   }
  },
  {
   "cell_type": "code",
   "execution_count": null,
   "outputs": [],
   "source": [
    "row_sums = df_stat.iloc[:, 2:].sum(axis=1)\n",
    "x=row_sums.value_counts()\n",
    "x"
   ],
   "metadata": {
    "collapsed": false
   }
  },
  {
   "cell_type": "code",
   "execution_count": null,
   "outputs": [],
   "source": [
    "# plot\n",
    "plt.figure(figsize=(12,8))\n",
    "ax = sns.barplot(x = x.index, y = x.values)\n",
    "plt.title(\"Number of label per text\", fontsize=18)\n",
    "plt.ylabel('# of Occurrences', fontsize=16)\n",
    "plt.xlabel('# of categories', fontsize=16)"
   ],
   "metadata": {
    "collapsed": false
   }
  },
  {
   "cell_type": "code",
   "execution_count": null,
   "outputs": [],
   "source": [
    "lens = dataset.text.str.len()\n",
    "lens.sort_values(ascending=False)"
   ],
   "metadata": {
    "collapsed": false
   }
  },
  {
   "cell_type": "code",
   "execution_count": null,
   "outputs": [],
   "source": [
    "average_character_per_text = lens.sum()/len(lens)\n",
    "average_character_per_text"
   ],
   "metadata": {
    "collapsed": false
   }
  },
  {
   "cell_type": "code",
   "execution_count": null,
   "outputs": [],
   "source": [
    "lens.hist(bins = np.arange(0,1000,50))"
   ],
   "metadata": {
    "collapsed": false
   }
  },
  {
   "cell_type": "code",
   "execution_count": null,
   "outputs": [],
   "source": [
    "counts, bins = np.histogram(lens)\n",
    "plt.figure(figsize=(12,8))\n",
    "plt.title(\"Number of Character per Text Chart\", fontsize=18)\n",
    "plt.ylabel('# of Occurrences', fontsize=16)\n",
    "plt.xlabel('# of Character', fontsize=16)\n",
    "plt.stairs(counts, bins, fill=True)"
   ],
   "metadata": {
    "collapsed": false
   }
  },
  {
   "cell_type": "code",
   "execution_count": null,
   "outputs": [],
   "source": [
    "word_per_text = pd.DataFrame(data = dataset.text.str.strip())\n",
    "word_per_text = pd.DataFrame(data = dataset.text.str.split())\n",
    "word_per_text.insert(1, \"length\", word_per_text.text.str.len())\n",
    "# word_per_text = word_per_text.text.str.len()\n",
    "word_per_text.sort_values('length', ascending=False)"
   ],
   "metadata": {
    "collapsed": false
   }
  },
  {
   "cell_type": "code",
   "execution_count": null,
   "outputs": [],
   "source": [
    "average_word_per_text = word_per_text['length'].sum()/len(word_per_text)\n",
    "average_word_per_text"
   ],
   "metadata": {
    "collapsed": false
   }
  },
  {
   "cell_type": "code",
   "execution_count": null,
   "outputs": [],
   "source": [
    "word_per_text.length.hist(bins = np.arange(0,120,5))"
   ],
   "metadata": {
    "collapsed": false
   }
  },
  {
   "cell_type": "code",
   "execution_count": null,
   "outputs": [],
   "source": [
    "counts, bins = np.histogram(word_per_text.length)\n",
    "plt.figure(figsize=(12,8))\n",
    "plt.title(\"Number of Word per Text Chart\", fontsize=18)\n",
    "plt.ylabel('# of Occurrences', fontsize=16)\n",
    "plt.xlabel('# of Word', fontsize=16)\n",
    "plt.stairs(counts, bins, fill=True)"
   ],
   "metadata": {
    "collapsed": false
   }
  },
  {
   "cell_type": "code",
   "execution_count": null,
   "outputs": [],
   "source": [
    "print('Number of missing comments in comment text:')\n",
    "dataset['text'].isnull().sum()"
   ],
   "metadata": {
    "collapsed": false
   }
  },
  {
   "cell_type": "code",
   "execution_count": null,
   "outputs": [],
   "source": [
    "dataset['text'][random.randint(3,len(dataset))]"
   ],
   "metadata": {
    "collapsed": false
   }
  },
  {
   "cell_type": "code",
   "execution_count": null,
   "outputs": [],
   "source": [],
   "metadata": {
    "collapsed": false
   }
  }
 ],
 "metadata": {
  "kernelspec": {
   "display_name": "Python 3",
   "language": "python",
   "name": "python3"
  },
  "language_info": {
   "codemirror_mode": {
    "name": "ipython",
    "version": 2
   },
   "file_extension": ".py",
   "mimetype": "text/x-python",
   "name": "python",
   "nbconvert_exporter": "python",
   "pygments_lexer": "ipython2",
   "version": "2.7.6"
  }
 },
 "nbformat": 4,
 "nbformat_minor": 0
}
